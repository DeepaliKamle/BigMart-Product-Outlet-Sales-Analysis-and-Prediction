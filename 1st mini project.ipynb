{
 "cells": [
  {
   "cell_type": "markdown",
   "id": "7deed1a9",
   "metadata": {},
   "source": [
    "1) Problem Statement :\n",
    "    The data scientists at BigMart have collected 2013 sales data for 1559 products across 10 stores in different cities. Also, certain attributes of each product and store have been defined. The aim of this data science project is to build a predictive model and find out the sales of each product at a particular store.\n",
    "Using this model, BigMart will try to understand the properties of products and stores which play a key role in increasing sales."
   ]
  },
  {
   "cell_type": "markdown",
   "id": "22817270",
   "metadata": {},
   "source": [
    "### 3)Loading Packages and Data"
   ]
  },
  {
   "cell_type": "code",
   "execution_count": 268,
   "id": "a9b56565",
   "metadata": {},
   "outputs": [],
   "source": [
    "#LOADING REQUIRED LIBRARIES\n",
    "\n",
    "import numpy as np\n",
    "import pandas as pd\n",
    "import seaborn as sns\n",
    "from sklearn.metrics import r2_score, mean_squared_error\n",
    "from math import sqrt\n",
    "from sklearn.preprocessing import LabelEncoder\n",
    "from sklearn.linear_model import LinearRegression\n",
    "import matplotlib.pyplot as plt\n",
    "%matplotlib inline"
   ]
  },
  {
   "cell_type": "code",
   "execution_count": 148,
   "id": "9a206ff7",
   "metadata": {},
   "outputs": [],
   "source": [
    "# Lets read the data first\n",
    "\n",
    "train_data=pd.read_csv('Train.csv')\n",
    "test_data=pd.read_csv('Test.csv')"
   ]
  },
  {
   "cell_type": "markdown",
   "id": "b4a329e6",
   "metadata": {},
   "source": [
    "### 4)Data Structure and Content"
   ]
  },
  {
   "cell_type": "code",
   "execution_count": 149,
   "id": "9ee2c654",
   "metadata": {},
   "outputs": [
    {
     "data": {
      "text/html": [
       "<div>\n",
       "<style scoped>\n",
       "    .dataframe tbody tr th:only-of-type {\n",
       "        vertical-align: middle;\n",
       "    }\n",
       "\n",
       "    .dataframe tbody tr th {\n",
       "        vertical-align: top;\n",
       "    }\n",
       "\n",
       "    .dataframe thead th {\n",
       "        text-align: right;\n",
       "    }\n",
       "</style>\n",
       "<table border=\"1\" class=\"dataframe\">\n",
       "  <thead>\n",
       "    <tr style=\"text-align: right;\">\n",
       "      <th></th>\n",
       "      <th>Item_Identifier</th>\n",
       "      <th>Item_Weight</th>\n",
       "      <th>Item_Fat_Content</th>\n",
       "      <th>Item_Visibility</th>\n",
       "      <th>Item_Type</th>\n",
       "      <th>Item_MRP</th>\n",
       "      <th>Outlet_Identifier</th>\n",
       "      <th>Outlet_Establishment_Year</th>\n",
       "      <th>Outlet_Size</th>\n",
       "      <th>Outlet_Location_Type</th>\n",
       "      <th>Outlet_Type</th>\n",
       "      <th>Item_Outlet_Sales</th>\n",
       "    </tr>\n",
       "  </thead>\n",
       "  <tbody>\n",
       "    <tr>\n",
       "      <th>0</th>\n",
       "      <td>FDA15</td>\n",
       "      <td>9.30</td>\n",
       "      <td>Low Fat</td>\n",
       "      <td>0.016047</td>\n",
       "      <td>Dairy</td>\n",
       "      <td>249.8092</td>\n",
       "      <td>OUT049</td>\n",
       "      <td>1999</td>\n",
       "      <td>Medium</td>\n",
       "      <td>Tier 1</td>\n",
       "      <td>Supermarket Type1</td>\n",
       "      <td>3735.1380</td>\n",
       "    </tr>\n",
       "    <tr>\n",
       "      <th>1</th>\n",
       "      <td>DRC01</td>\n",
       "      <td>5.92</td>\n",
       "      <td>Regular</td>\n",
       "      <td>0.019278</td>\n",
       "      <td>Soft Drinks</td>\n",
       "      <td>48.2692</td>\n",
       "      <td>OUT018</td>\n",
       "      <td>2009</td>\n",
       "      <td>Medium</td>\n",
       "      <td>Tier 3</td>\n",
       "      <td>Supermarket Type2</td>\n",
       "      <td>443.4228</td>\n",
       "    </tr>\n",
       "    <tr>\n",
       "      <th>2</th>\n",
       "      <td>FDN15</td>\n",
       "      <td>17.50</td>\n",
       "      <td>Low Fat</td>\n",
       "      <td>0.016760</td>\n",
       "      <td>Meat</td>\n",
       "      <td>141.6180</td>\n",
       "      <td>OUT049</td>\n",
       "      <td>1999</td>\n",
       "      <td>Medium</td>\n",
       "      <td>Tier 1</td>\n",
       "      <td>Supermarket Type1</td>\n",
       "      <td>2097.2700</td>\n",
       "    </tr>\n",
       "    <tr>\n",
       "      <th>3</th>\n",
       "      <td>FDX07</td>\n",
       "      <td>19.20</td>\n",
       "      <td>Regular</td>\n",
       "      <td>0.000000</td>\n",
       "      <td>Fruits and Vegetables</td>\n",
       "      <td>182.0950</td>\n",
       "      <td>OUT010</td>\n",
       "      <td>1998</td>\n",
       "      <td>NaN</td>\n",
       "      <td>Tier 3</td>\n",
       "      <td>Grocery Store</td>\n",
       "      <td>732.3800</td>\n",
       "    </tr>\n",
       "    <tr>\n",
       "      <th>4</th>\n",
       "      <td>NCD19</td>\n",
       "      <td>8.93</td>\n",
       "      <td>Low Fat</td>\n",
       "      <td>0.000000</td>\n",
       "      <td>Household</td>\n",
       "      <td>53.8614</td>\n",
       "      <td>OUT013</td>\n",
       "      <td>1987</td>\n",
       "      <td>High</td>\n",
       "      <td>Tier 3</td>\n",
       "      <td>Supermarket Type1</td>\n",
       "      <td>994.7052</td>\n",
       "    </tr>\n",
       "  </tbody>\n",
       "</table>\n",
       "</div>"
      ],
      "text/plain": [
       "  Item_Identifier  Item_Weight Item_Fat_Content  Item_Visibility  \\\n",
       "0           FDA15         9.30          Low Fat         0.016047   \n",
       "1           DRC01         5.92          Regular         0.019278   \n",
       "2           FDN15        17.50          Low Fat         0.016760   \n",
       "3           FDX07        19.20          Regular         0.000000   \n",
       "4           NCD19         8.93          Low Fat         0.000000   \n",
       "\n",
       "               Item_Type  Item_MRP Outlet_Identifier  \\\n",
       "0                  Dairy  249.8092            OUT049   \n",
       "1            Soft Drinks   48.2692            OUT018   \n",
       "2                   Meat  141.6180            OUT049   \n",
       "3  Fruits and Vegetables  182.0950            OUT010   \n",
       "4              Household   53.8614            OUT013   \n",
       "\n",
       "   Outlet_Establishment_Year Outlet_Size Outlet_Location_Type  \\\n",
       "0                       1999      Medium               Tier 1   \n",
       "1                       2009      Medium               Tier 3   \n",
       "2                       1999      Medium               Tier 1   \n",
       "3                       1998         NaN               Tier 3   \n",
       "4                       1987        High               Tier 3   \n",
       "\n",
       "         Outlet_Type  Item_Outlet_Sales  \n",
       "0  Supermarket Type1          3735.1380  \n",
       "1  Supermarket Type2           443.4228  \n",
       "2  Supermarket Type1          2097.2700  \n",
       "3      Grocery Store           732.3800  \n",
       "4  Supermarket Type1           994.7052  "
      ]
     },
     "execution_count": 149,
     "metadata": {},
     "output_type": "execute_result"
    }
   ],
   "source": [
    "#View top 5 records\n",
    "\n",
    "train_data.head()"
   ]
  },
  {
   "cell_type": "code",
   "execution_count": 150,
   "id": "df929831",
   "metadata": {},
   "outputs": [
    {
     "data": {
      "text/html": [
       "<div>\n",
       "<style scoped>\n",
       "    .dataframe tbody tr th:only-of-type {\n",
       "        vertical-align: middle;\n",
       "    }\n",
       "\n",
       "    .dataframe tbody tr th {\n",
       "        vertical-align: top;\n",
       "    }\n",
       "\n",
       "    .dataframe thead th {\n",
       "        text-align: right;\n",
       "    }\n",
       "</style>\n",
       "<table border=\"1\" class=\"dataframe\">\n",
       "  <thead>\n",
       "    <tr style=\"text-align: right;\">\n",
       "      <th></th>\n",
       "      <th>Item_Identifier</th>\n",
       "      <th>Item_Weight</th>\n",
       "      <th>Item_Fat_Content</th>\n",
       "      <th>Item_Visibility</th>\n",
       "      <th>Item_Type</th>\n",
       "      <th>Item_MRP</th>\n",
       "      <th>Outlet_Identifier</th>\n",
       "      <th>Outlet_Establishment_Year</th>\n",
       "      <th>Outlet_Size</th>\n",
       "      <th>Outlet_Location_Type</th>\n",
       "      <th>Outlet_Type</th>\n",
       "    </tr>\n",
       "  </thead>\n",
       "  <tbody>\n",
       "    <tr>\n",
       "      <th>0</th>\n",
       "      <td>FDW58</td>\n",
       "      <td>20.750</td>\n",
       "      <td>Low Fat</td>\n",
       "      <td>0.007565</td>\n",
       "      <td>Snack Foods</td>\n",
       "      <td>107.8622</td>\n",
       "      <td>OUT049</td>\n",
       "      <td>1999</td>\n",
       "      <td>Medium</td>\n",
       "      <td>Tier 1</td>\n",
       "      <td>Supermarket Type1</td>\n",
       "    </tr>\n",
       "    <tr>\n",
       "      <th>1</th>\n",
       "      <td>FDW14</td>\n",
       "      <td>8.300</td>\n",
       "      <td>reg</td>\n",
       "      <td>0.038428</td>\n",
       "      <td>Dairy</td>\n",
       "      <td>87.3198</td>\n",
       "      <td>OUT017</td>\n",
       "      <td>2007</td>\n",
       "      <td>NaN</td>\n",
       "      <td>Tier 2</td>\n",
       "      <td>Supermarket Type1</td>\n",
       "    </tr>\n",
       "    <tr>\n",
       "      <th>2</th>\n",
       "      <td>NCN55</td>\n",
       "      <td>14.600</td>\n",
       "      <td>Low Fat</td>\n",
       "      <td>0.099575</td>\n",
       "      <td>Others</td>\n",
       "      <td>241.7538</td>\n",
       "      <td>OUT010</td>\n",
       "      <td>1998</td>\n",
       "      <td>NaN</td>\n",
       "      <td>Tier 3</td>\n",
       "      <td>Grocery Store</td>\n",
       "    </tr>\n",
       "    <tr>\n",
       "      <th>3</th>\n",
       "      <td>FDQ58</td>\n",
       "      <td>7.315</td>\n",
       "      <td>Low Fat</td>\n",
       "      <td>0.015388</td>\n",
       "      <td>Snack Foods</td>\n",
       "      <td>155.0340</td>\n",
       "      <td>OUT017</td>\n",
       "      <td>2007</td>\n",
       "      <td>NaN</td>\n",
       "      <td>Tier 2</td>\n",
       "      <td>Supermarket Type1</td>\n",
       "    </tr>\n",
       "    <tr>\n",
       "      <th>4</th>\n",
       "      <td>FDY38</td>\n",
       "      <td>NaN</td>\n",
       "      <td>Regular</td>\n",
       "      <td>0.118599</td>\n",
       "      <td>Dairy</td>\n",
       "      <td>234.2300</td>\n",
       "      <td>OUT027</td>\n",
       "      <td>1985</td>\n",
       "      <td>Medium</td>\n",
       "      <td>Tier 3</td>\n",
       "      <td>Supermarket Type3</td>\n",
       "    </tr>\n",
       "  </tbody>\n",
       "</table>\n",
       "</div>"
      ],
      "text/plain": [
       "  Item_Identifier  Item_Weight Item_Fat_Content  Item_Visibility    Item_Type  \\\n",
       "0           FDW58       20.750          Low Fat         0.007565  Snack Foods   \n",
       "1           FDW14        8.300              reg         0.038428        Dairy   \n",
       "2           NCN55       14.600          Low Fat         0.099575       Others   \n",
       "3           FDQ58        7.315          Low Fat         0.015388  Snack Foods   \n",
       "4           FDY38          NaN          Regular         0.118599        Dairy   \n",
       "\n",
       "   Item_MRP Outlet_Identifier  Outlet_Establishment_Year Outlet_Size  \\\n",
       "0  107.8622            OUT049                       1999      Medium   \n",
       "1   87.3198            OUT017                       2007         NaN   \n",
       "2  241.7538            OUT010                       1998         NaN   \n",
       "3  155.0340            OUT017                       2007         NaN   \n",
       "4  234.2300            OUT027                       1985      Medium   \n",
       "\n",
       "  Outlet_Location_Type        Outlet_Type  \n",
       "0               Tier 1  Supermarket Type1  \n",
       "1               Tier 2  Supermarket Type1  \n",
       "2               Tier 3      Grocery Store  \n",
       "3               Tier 2  Supermarket Type1  \n",
       "4               Tier 3  Supermarket Type3  "
      ]
     },
     "execution_count": 150,
     "metadata": {},
     "output_type": "execute_result"
    }
   ],
   "source": [
    "test_data.head()"
   ]
  },
  {
   "cell_type": "markdown",
   "id": "ab14497d",
   "metadata": {},
   "source": [
    "Observation : Train data contains output column as \"Item_Outlet_Sales\" in which continous variable are present hence we will apply Regression analysis techniques to predict the test data"
   ]
  },
  {
   "cell_type": "code",
   "execution_count": 151,
   "id": "5af83a9e",
   "metadata": {},
   "outputs": [
    {
     "data": {
      "text/plain": [
       "102276"
      ]
     },
     "execution_count": 151,
     "metadata": {},
     "output_type": "execute_result"
    }
   ],
   "source": [
    "train_data.size"
   ]
  },
  {
   "cell_type": "code",
   "execution_count": 152,
   "id": "57285240",
   "metadata": {},
   "outputs": [
    {
     "data": {
      "text/plain": [
       "62491"
      ]
     },
     "execution_count": 152,
     "metadata": {},
     "output_type": "execute_result"
    }
   ],
   "source": [
    "test_data.size"
   ]
  },
  {
   "cell_type": "code",
   "execution_count": 153,
   "id": "2374e590",
   "metadata": {},
   "outputs": [
    {
     "data": {
      "text/plain": [
       "(8523, 12)"
      ]
     },
     "execution_count": 153,
     "metadata": {},
     "output_type": "execute_result"
    }
   ],
   "source": [
    "train_data.shape"
   ]
  },
  {
   "cell_type": "code",
   "execution_count": 154,
   "id": "6715cc26",
   "metadata": {},
   "outputs": [
    {
     "data": {
      "text/plain": [
       "(5681, 11)"
      ]
     },
     "execution_count": 154,
     "metadata": {},
     "output_type": "execute_result"
    }
   ],
   "source": [
    "test_data.shape"
   ]
  },
  {
   "cell_type": "code",
   "execution_count": 155,
   "id": "7fbb82b5",
   "metadata": {},
   "outputs": [
    {
     "data": {
      "text/plain": [
       "Index(['Item_Identifier', 'Item_Weight', 'Item_Fat_Content', 'Item_Visibility',\n",
       "       'Item_Type', 'Item_MRP', 'Outlet_Identifier',\n",
       "       'Outlet_Establishment_Year', 'Outlet_Size', 'Outlet_Location_Type',\n",
       "       'Outlet_Type', 'Item_Outlet_Sales'],\n",
       "      dtype='object')"
      ]
     },
     "execution_count": 155,
     "metadata": {},
     "output_type": "execute_result"
    }
   ],
   "source": [
    "train_data.columns"
   ]
  },
  {
   "cell_type": "code",
   "execution_count": 156,
   "id": "f52ec467",
   "metadata": {},
   "outputs": [
    {
     "data": {
      "text/plain": [
       "Index(['Item_Identifier', 'Item_Weight', 'Item_Fat_Content', 'Item_Visibility',\n",
       "       'Item_Type', 'Item_MRP', 'Outlet_Identifier',\n",
       "       'Outlet_Establishment_Year', 'Outlet_Size', 'Outlet_Location_Type',\n",
       "       'Outlet_Type'],\n",
       "      dtype='object')"
      ]
     },
     "execution_count": 156,
     "metadata": {},
     "output_type": "execute_result"
    }
   ],
   "source": [
    "test_data.columns"
   ]
  },
  {
   "cell_type": "markdown",
   "id": "0275ab59",
   "metadata": {},
   "source": [
    "Observation : Both Train and Test data has same column except output column in train dataset"
   ]
  },
  {
   "cell_type": "code",
   "execution_count": 157,
   "id": "fe7da8a8",
   "metadata": {},
   "outputs": [
    {
     "name": "stdout",
     "output_type": "stream",
     "text": [
      "<class 'pandas.core.frame.DataFrame'>\n",
      "RangeIndex: 8523 entries, 0 to 8522\n",
      "Data columns (total 12 columns):\n",
      " #   Column                     Non-Null Count  Dtype  \n",
      "---  ------                     --------------  -----  \n",
      " 0   Item_Identifier            8523 non-null   object \n",
      " 1   Item_Weight                7060 non-null   float64\n",
      " 2   Item_Fat_Content           8523 non-null   object \n",
      " 3   Item_Visibility            8523 non-null   float64\n",
      " 4   Item_Type                  8523 non-null   object \n",
      " 5   Item_MRP                   8523 non-null   float64\n",
      " 6   Outlet_Identifier          8523 non-null   object \n",
      " 7   Outlet_Establishment_Year  8523 non-null   int64  \n",
      " 8   Outlet_Size                6113 non-null   object \n",
      " 9   Outlet_Location_Type       8523 non-null   object \n",
      " 10  Outlet_Type                8523 non-null   object \n",
      " 11  Item_Outlet_Sales          8523 non-null   float64\n",
      "dtypes: float64(4), int64(1), object(7)\n",
      "memory usage: 799.2+ KB\n"
     ]
    }
   ],
   "source": [
    "train_data.info()"
   ]
  },
  {
   "cell_type": "markdown",
   "id": "459adaca",
   "metadata": {},
   "source": [
    "Observation : All the features data type has been identified correctly.Also there are 4 features withn numeric data and 7 features column with categorical data present"
   ]
  },
  {
   "cell_type": "code",
   "execution_count": 158,
   "id": "b7810b92",
   "metadata": {},
   "outputs": [
    {
     "name": "stdout",
     "output_type": "stream",
     "text": [
      "<class 'pandas.core.frame.DataFrame'>\n",
      "RangeIndex: 5681 entries, 0 to 5680\n",
      "Data columns (total 11 columns):\n",
      " #   Column                     Non-Null Count  Dtype  \n",
      "---  ------                     --------------  -----  \n",
      " 0   Item_Identifier            5681 non-null   object \n",
      " 1   Item_Weight                4705 non-null   float64\n",
      " 2   Item_Fat_Content           5681 non-null   object \n",
      " 3   Item_Visibility            5681 non-null   float64\n",
      " 4   Item_Type                  5681 non-null   object \n",
      " 5   Item_MRP                   5681 non-null   float64\n",
      " 6   Outlet_Identifier          5681 non-null   object \n",
      " 7   Outlet_Establishment_Year  5681 non-null   int64  \n",
      " 8   Outlet_Size                4075 non-null   object \n",
      " 9   Outlet_Location_Type       5681 non-null   object \n",
      " 10  Outlet_Type                5681 non-null   object \n",
      "dtypes: float64(3), int64(1), object(7)\n",
      "memory usage: 488.3+ KB\n"
     ]
    }
   ],
   "source": [
    "test_data.info()"
   ]
  },
  {
   "cell_type": "code",
   "execution_count": 159,
   "id": "f7b3e7b1",
   "metadata": {},
   "outputs": [
    {
     "data": {
      "text/html": [
       "<div>\n",
       "<style scoped>\n",
       "    .dataframe tbody tr th:only-of-type {\n",
       "        vertical-align: middle;\n",
       "    }\n",
       "\n",
       "    .dataframe tbody tr th {\n",
       "        vertical-align: top;\n",
       "    }\n",
       "\n",
       "    .dataframe thead th {\n",
       "        text-align: right;\n",
       "    }\n",
       "</style>\n",
       "<table border=\"1\" class=\"dataframe\">\n",
       "  <thead>\n",
       "    <tr style=\"text-align: right;\">\n",
       "      <th></th>\n",
       "      <th>Item_Weight</th>\n",
       "      <th>Item_Visibility</th>\n",
       "      <th>Item_MRP</th>\n",
       "      <th>Outlet_Establishment_Year</th>\n",
       "      <th>Item_Outlet_Sales</th>\n",
       "    </tr>\n",
       "  </thead>\n",
       "  <tbody>\n",
       "    <tr>\n",
       "      <th>count</th>\n",
       "      <td>7060.000000</td>\n",
       "      <td>8523.000000</td>\n",
       "      <td>8523.000000</td>\n",
       "      <td>8523.000000</td>\n",
       "      <td>8523.000000</td>\n",
       "    </tr>\n",
       "    <tr>\n",
       "      <th>mean</th>\n",
       "      <td>12.857645</td>\n",
       "      <td>0.066132</td>\n",
       "      <td>140.992782</td>\n",
       "      <td>1997.831867</td>\n",
       "      <td>2181.288914</td>\n",
       "    </tr>\n",
       "    <tr>\n",
       "      <th>std</th>\n",
       "      <td>4.643456</td>\n",
       "      <td>0.051598</td>\n",
       "      <td>62.275067</td>\n",
       "      <td>8.371760</td>\n",
       "      <td>1706.499616</td>\n",
       "    </tr>\n",
       "    <tr>\n",
       "      <th>min</th>\n",
       "      <td>4.555000</td>\n",
       "      <td>0.000000</td>\n",
       "      <td>31.290000</td>\n",
       "      <td>1985.000000</td>\n",
       "      <td>33.290000</td>\n",
       "    </tr>\n",
       "    <tr>\n",
       "      <th>25%</th>\n",
       "      <td>8.773750</td>\n",
       "      <td>0.026989</td>\n",
       "      <td>93.826500</td>\n",
       "      <td>1987.000000</td>\n",
       "      <td>834.247400</td>\n",
       "    </tr>\n",
       "    <tr>\n",
       "      <th>50%</th>\n",
       "      <td>12.600000</td>\n",
       "      <td>0.053931</td>\n",
       "      <td>143.012800</td>\n",
       "      <td>1999.000000</td>\n",
       "      <td>1794.331000</td>\n",
       "    </tr>\n",
       "    <tr>\n",
       "      <th>75%</th>\n",
       "      <td>16.850000</td>\n",
       "      <td>0.094585</td>\n",
       "      <td>185.643700</td>\n",
       "      <td>2004.000000</td>\n",
       "      <td>3101.296400</td>\n",
       "    </tr>\n",
       "    <tr>\n",
       "      <th>max</th>\n",
       "      <td>21.350000</td>\n",
       "      <td>0.328391</td>\n",
       "      <td>266.888400</td>\n",
       "      <td>2009.000000</td>\n",
       "      <td>13086.964800</td>\n",
       "    </tr>\n",
       "  </tbody>\n",
       "</table>\n",
       "</div>"
      ],
      "text/plain": [
       "       Item_Weight  Item_Visibility     Item_MRP  Outlet_Establishment_Year  \\\n",
       "count  7060.000000      8523.000000  8523.000000                8523.000000   \n",
       "mean     12.857645         0.066132   140.992782                1997.831867   \n",
       "std       4.643456         0.051598    62.275067                   8.371760   \n",
       "min       4.555000         0.000000    31.290000                1985.000000   \n",
       "25%       8.773750         0.026989    93.826500                1987.000000   \n",
       "50%      12.600000         0.053931   143.012800                1999.000000   \n",
       "75%      16.850000         0.094585   185.643700                2004.000000   \n",
       "max      21.350000         0.328391   266.888400                2009.000000   \n",
       "\n",
       "       Item_Outlet_Sales  \n",
       "count        8523.000000  \n",
       "mean         2181.288914  \n",
       "std          1706.499616  \n",
       "min            33.290000  \n",
       "25%           834.247400  \n",
       "50%          1794.331000  \n",
       "75%          3101.296400  \n",
       "max         13086.964800  "
      ]
     },
     "execution_count": 159,
     "metadata": {},
     "output_type": "execute_result"
    }
   ],
   "source": [
    "train_data.describe()"
   ]
  },
  {
   "cell_type": "code",
   "execution_count": 160,
   "id": "a1fbbac2",
   "metadata": {},
   "outputs": [
    {
     "data": {
      "text/plain": [
       "Item_Identifier                 0\n",
       "Item_Weight                  1463\n",
       "Item_Fat_Content                0\n",
       "Item_Visibility                 0\n",
       "Item_Type                       0\n",
       "Item_MRP                        0\n",
       "Outlet_Identifier               0\n",
       "Outlet_Establishment_Year       0\n",
       "Outlet_Size                  2410\n",
       "Outlet_Location_Type            0\n",
       "Outlet_Type                     0\n",
       "Item_Outlet_Sales               0\n",
       "dtype: int64"
      ]
     },
     "execution_count": 160,
     "metadata": {},
     "output_type": "execute_result"
    }
   ],
   "source": [
    "train_data.isnull().sum()"
   ]
  },
  {
   "cell_type": "markdown",
   "id": "f4806372",
   "metadata": {},
   "source": [
    "### 5)Exploratory Data Analysis"
   ]
  },
  {
   "cell_type": "code",
   "execution_count": 161,
   "id": "07671f55",
   "metadata": {},
   "outputs": [],
   "source": [
    "#Lets merge both Train and test data set for EDA analysis else analysis on separate file would be time consuming\n",
    "\n",
    "train_data['Classifying Train/Test data']='Train data'\n",
    "test_data['Classifying Train/Test data']='Test Data'\n",
    "test_data['Item_Outlet_Sales'] = 0"
   ]
  },
  {
   "cell_type": "code",
   "execution_count": 162,
   "id": "1b1127d5",
   "metadata": {},
   "outputs": [],
   "source": [
    "Combined_data=pd.concat([train_data,test_data])"
   ]
  },
  {
   "cell_type": "code",
   "execution_count": 163,
   "id": "d18a2efd",
   "metadata": {},
   "outputs": [
    {
     "data": {
      "text/html": [
       "<div>\n",
       "<style scoped>\n",
       "    .dataframe tbody tr th:only-of-type {\n",
       "        vertical-align: middle;\n",
       "    }\n",
       "\n",
       "    .dataframe tbody tr th {\n",
       "        vertical-align: top;\n",
       "    }\n",
       "\n",
       "    .dataframe thead th {\n",
       "        text-align: right;\n",
       "    }\n",
       "</style>\n",
       "<table border=\"1\" class=\"dataframe\">\n",
       "  <thead>\n",
       "    <tr style=\"text-align: right;\">\n",
       "      <th></th>\n",
       "      <th>Item_Identifier</th>\n",
       "      <th>Item_Weight</th>\n",
       "      <th>Item_Fat_Content</th>\n",
       "      <th>Item_Visibility</th>\n",
       "      <th>Item_Type</th>\n",
       "      <th>Item_MRP</th>\n",
       "      <th>Outlet_Identifier</th>\n",
       "      <th>Outlet_Establishment_Year</th>\n",
       "      <th>Outlet_Size</th>\n",
       "      <th>Outlet_Location_Type</th>\n",
       "      <th>Outlet_Type</th>\n",
       "      <th>Item_Outlet_Sales</th>\n",
       "      <th>Classifying Train/Test data</th>\n",
       "    </tr>\n",
       "  </thead>\n",
       "  <tbody>\n",
       "    <tr>\n",
       "      <th>5676</th>\n",
       "      <td>FDB58</td>\n",
       "      <td>10.5</td>\n",
       "      <td>Regular</td>\n",
       "      <td>0.013496</td>\n",
       "      <td>Snack Foods</td>\n",
       "      <td>141.3154</td>\n",
       "      <td>OUT046</td>\n",
       "      <td>1997</td>\n",
       "      <td>Small</td>\n",
       "      <td>Tier 1</td>\n",
       "      <td>Supermarket Type1</td>\n",
       "      <td>0.0</td>\n",
       "      <td>Test Data</td>\n",
       "    </tr>\n",
       "    <tr>\n",
       "      <th>5677</th>\n",
       "      <td>FDD47</td>\n",
       "      <td>7.6</td>\n",
       "      <td>Regular</td>\n",
       "      <td>0.142991</td>\n",
       "      <td>Starchy Foods</td>\n",
       "      <td>169.1448</td>\n",
       "      <td>OUT018</td>\n",
       "      <td>2009</td>\n",
       "      <td>Medium</td>\n",
       "      <td>Tier 3</td>\n",
       "      <td>Supermarket Type2</td>\n",
       "      <td>0.0</td>\n",
       "      <td>Test Data</td>\n",
       "    </tr>\n",
       "    <tr>\n",
       "      <th>5678</th>\n",
       "      <td>NCO17</td>\n",
       "      <td>10.0</td>\n",
       "      <td>Low Fat</td>\n",
       "      <td>0.073529</td>\n",
       "      <td>Health and Hygiene</td>\n",
       "      <td>118.7440</td>\n",
       "      <td>OUT045</td>\n",
       "      <td>2002</td>\n",
       "      <td>NaN</td>\n",
       "      <td>Tier 2</td>\n",
       "      <td>Supermarket Type1</td>\n",
       "      <td>0.0</td>\n",
       "      <td>Test Data</td>\n",
       "    </tr>\n",
       "    <tr>\n",
       "      <th>5679</th>\n",
       "      <td>FDJ26</td>\n",
       "      <td>15.3</td>\n",
       "      <td>Regular</td>\n",
       "      <td>0.000000</td>\n",
       "      <td>Canned</td>\n",
       "      <td>214.6218</td>\n",
       "      <td>OUT017</td>\n",
       "      <td>2007</td>\n",
       "      <td>NaN</td>\n",
       "      <td>Tier 2</td>\n",
       "      <td>Supermarket Type1</td>\n",
       "      <td>0.0</td>\n",
       "      <td>Test Data</td>\n",
       "    </tr>\n",
       "    <tr>\n",
       "      <th>5680</th>\n",
       "      <td>FDU37</td>\n",
       "      <td>9.5</td>\n",
       "      <td>Regular</td>\n",
       "      <td>0.104720</td>\n",
       "      <td>Canned</td>\n",
       "      <td>79.7960</td>\n",
       "      <td>OUT045</td>\n",
       "      <td>2002</td>\n",
       "      <td>NaN</td>\n",
       "      <td>Tier 2</td>\n",
       "      <td>Supermarket Type1</td>\n",
       "      <td>0.0</td>\n",
       "      <td>Test Data</td>\n",
       "    </tr>\n",
       "  </tbody>\n",
       "</table>\n",
       "</div>"
      ],
      "text/plain": [
       "     Item_Identifier  Item_Weight Item_Fat_Content  Item_Visibility  \\\n",
       "5676           FDB58         10.5          Regular         0.013496   \n",
       "5677           FDD47          7.6          Regular         0.142991   \n",
       "5678           NCO17         10.0          Low Fat         0.073529   \n",
       "5679           FDJ26         15.3          Regular         0.000000   \n",
       "5680           FDU37          9.5          Regular         0.104720   \n",
       "\n",
       "               Item_Type  Item_MRP Outlet_Identifier  \\\n",
       "5676         Snack Foods  141.3154            OUT046   \n",
       "5677       Starchy Foods  169.1448            OUT018   \n",
       "5678  Health and Hygiene  118.7440            OUT045   \n",
       "5679              Canned  214.6218            OUT017   \n",
       "5680              Canned   79.7960            OUT045   \n",
       "\n",
       "      Outlet_Establishment_Year Outlet_Size Outlet_Location_Type  \\\n",
       "5676                       1997       Small               Tier 1   \n",
       "5677                       2009      Medium               Tier 3   \n",
       "5678                       2002         NaN               Tier 2   \n",
       "5679                       2007         NaN               Tier 2   \n",
       "5680                       2002         NaN               Tier 2   \n",
       "\n",
       "            Outlet_Type  Item_Outlet_Sales Classifying Train/Test data  \n",
       "5676  Supermarket Type1                0.0                   Test Data  \n",
       "5677  Supermarket Type2                0.0                   Test Data  \n",
       "5678  Supermarket Type1                0.0                   Test Data  \n",
       "5679  Supermarket Type1                0.0                   Test Data  \n",
       "5680  Supermarket Type1                0.0                   Test Data  "
      ]
     },
     "execution_count": 163,
     "metadata": {},
     "output_type": "execute_result"
    }
   ],
   "source": [
    "Combined_data.tail()"
   ]
  },
  {
   "cell_type": "code",
   "execution_count": 164,
   "id": "0570bab2",
   "metadata": {},
   "outputs": [
    {
     "data": {
      "text/plain": [
       "(14204, 13)"
      ]
     },
     "execution_count": 164,
     "metadata": {},
     "output_type": "execute_result"
    }
   ],
   "source": [
    "Combined_data.shape"
   ]
  },
  {
   "cell_type": "code",
   "execution_count": 165,
   "id": "62fa09bd",
   "metadata": {},
   "outputs": [
    {
     "name": "stdout",
     "output_type": "stream",
     "text": [
      "<class 'pandas.core.frame.DataFrame'>\n",
      "Int64Index: 14204 entries, 0 to 5680\n",
      "Data columns (total 13 columns):\n",
      " #   Column                       Non-Null Count  Dtype  \n",
      "---  ------                       --------------  -----  \n",
      " 0   Item_Identifier              14204 non-null  object \n",
      " 1   Item_Weight                  11765 non-null  float64\n",
      " 2   Item_Fat_Content             14204 non-null  object \n",
      " 3   Item_Visibility              14204 non-null  float64\n",
      " 4   Item_Type                    14204 non-null  object \n",
      " 5   Item_MRP                     14204 non-null  float64\n",
      " 6   Outlet_Identifier            14204 non-null  object \n",
      " 7   Outlet_Establishment_Year    14204 non-null  int64  \n",
      " 8   Outlet_Size                  10188 non-null  object \n",
      " 9   Outlet_Location_Type         14204 non-null  object \n",
      " 10  Outlet_Type                  14204 non-null  object \n",
      " 11  Item_Outlet_Sales            14204 non-null  float64\n",
      " 12  Classifying Train/Test data  14204 non-null  object \n",
      "dtypes: float64(4), int64(1), object(8)\n",
      "memory usage: 1.5+ MB\n"
     ]
    }
   ],
   "source": [
    "Combined_data.info()"
   ]
  },
  {
   "cell_type": "code",
   "execution_count": 166,
   "id": "578f70ba",
   "metadata": {},
   "outputs": [
    {
     "data": {
      "text/plain": [
       "Item_Identifier                   0\n",
       "Item_Weight                    2439\n",
       "Item_Fat_Content                  0\n",
       "Item_Visibility                   0\n",
       "Item_Type                         0\n",
       "Item_MRP                          0\n",
       "Outlet_Identifier                 0\n",
       "Outlet_Establishment_Year         0\n",
       "Outlet_Size                    4016\n",
       "Outlet_Location_Type              0\n",
       "Outlet_Type                       0\n",
       "Item_Outlet_Sales                 0\n",
       "Classifying Train/Test data       0\n",
       "dtype: int64"
      ]
     },
     "execution_count": 166,
     "metadata": {},
     "output_type": "execute_result"
    }
   ],
   "source": [
    "Combined_data.isnull().sum()"
   ]
  },
  {
   "cell_type": "code",
   "execution_count": 167,
   "id": "db291272",
   "metadata": {},
   "outputs": [
    {
     "data": {
      "text/html": [
       "<div>\n",
       "<style scoped>\n",
       "    .dataframe tbody tr th:only-of-type {\n",
       "        vertical-align: middle;\n",
       "    }\n",
       "\n",
       "    .dataframe tbody tr th {\n",
       "        vertical-align: top;\n",
       "    }\n",
       "\n",
       "    .dataframe thead th {\n",
       "        text-align: right;\n",
       "    }\n",
       "</style>\n",
       "<table border=\"1\" class=\"dataframe\">\n",
       "  <thead>\n",
       "    <tr style=\"text-align: right;\">\n",
       "      <th></th>\n",
       "      <th>Item_Weight</th>\n",
       "      <th>Item_Visibility</th>\n",
       "      <th>Item_MRP</th>\n",
       "      <th>Outlet_Establishment_Year</th>\n",
       "      <th>Item_Outlet_Sales</th>\n",
       "    </tr>\n",
       "  </thead>\n",
       "  <tbody>\n",
       "    <tr>\n",
       "      <th>count</th>\n",
       "      <td>11765.000000</td>\n",
       "      <td>14204.000000</td>\n",
       "      <td>14204.000000</td>\n",
       "      <td>14204.000000</td>\n",
       "      <td>14204.000000</td>\n",
       "    </tr>\n",
       "    <tr>\n",
       "      <th>mean</th>\n",
       "      <td>12.792854</td>\n",
       "      <td>0.065953</td>\n",
       "      <td>141.004977</td>\n",
       "      <td>1997.830681</td>\n",
       "      <td>1308.865489</td>\n",
       "    </tr>\n",
       "    <tr>\n",
       "      <th>std</th>\n",
       "      <td>4.652502</td>\n",
       "      <td>0.051459</td>\n",
       "      <td>62.086938</td>\n",
       "      <td>8.371664</td>\n",
       "      <td>1699.791423</td>\n",
       "    </tr>\n",
       "    <tr>\n",
       "      <th>min</th>\n",
       "      <td>4.555000</td>\n",
       "      <td>0.000000</td>\n",
       "      <td>31.290000</td>\n",
       "      <td>1985.000000</td>\n",
       "      <td>0.000000</td>\n",
       "    </tr>\n",
       "    <tr>\n",
       "      <th>25%</th>\n",
       "      <td>8.710000</td>\n",
       "      <td>0.027036</td>\n",
       "      <td>94.012000</td>\n",
       "      <td>1987.000000</td>\n",
       "      <td>0.000000</td>\n",
       "    </tr>\n",
       "    <tr>\n",
       "      <th>50%</th>\n",
       "      <td>12.600000</td>\n",
       "      <td>0.054021</td>\n",
       "      <td>142.247000</td>\n",
       "      <td>1999.000000</td>\n",
       "      <td>559.272000</td>\n",
       "    </tr>\n",
       "    <tr>\n",
       "      <th>75%</th>\n",
       "      <td>16.750000</td>\n",
       "      <td>0.094037</td>\n",
       "      <td>185.855600</td>\n",
       "      <td>2004.000000</td>\n",
       "      <td>2163.184200</td>\n",
       "    </tr>\n",
       "    <tr>\n",
       "      <th>max</th>\n",
       "      <td>21.350000</td>\n",
       "      <td>0.328391</td>\n",
       "      <td>266.888400</td>\n",
       "      <td>2009.000000</td>\n",
       "      <td>13086.964800</td>\n",
       "    </tr>\n",
       "  </tbody>\n",
       "</table>\n",
       "</div>"
      ],
      "text/plain": [
       "        Item_Weight  Item_Visibility      Item_MRP  Outlet_Establishment_Year  \\\n",
       "count  11765.000000     14204.000000  14204.000000               14204.000000   \n",
       "mean      12.792854         0.065953    141.004977                1997.830681   \n",
       "std        4.652502         0.051459     62.086938                   8.371664   \n",
       "min        4.555000         0.000000     31.290000                1985.000000   \n",
       "25%        8.710000         0.027036     94.012000                1987.000000   \n",
       "50%       12.600000         0.054021    142.247000                1999.000000   \n",
       "75%       16.750000         0.094037    185.855600                2004.000000   \n",
       "max       21.350000         0.328391    266.888400                2009.000000   \n",
       "\n",
       "       Item_Outlet_Sales  \n",
       "count       14204.000000  \n",
       "mean         1308.865489  \n",
       "std          1699.791423  \n",
       "min             0.000000  \n",
       "25%             0.000000  \n",
       "50%           559.272000  \n",
       "75%          2163.184200  \n",
       "max         13086.964800  "
      ]
     },
     "execution_count": 167,
     "metadata": {},
     "output_type": "execute_result"
    }
   ],
   "source": [
    "Combined_data.describe()"
   ]
  },
  {
   "cell_type": "markdown",
   "id": "04694716",
   "metadata": {},
   "source": [
    "# 6).Univariate Analysis"
   ]
  },
  {
   "cell_type": "markdown",
   "id": "3733e11d",
   "metadata": {},
   "source": [
    "Trying to explore continous and categorical data features indivudually."
   ]
  },
  {
   "cell_type": "code",
   "execution_count": 168,
   "id": "899ecea6",
   "metadata": {},
   "outputs": [
    {
     "data": {
      "image/png": "[encoded data removed]",
      "text/plain": [
       "<Figure size 432x288 with 1 Axes>"
      ]
     },
     "metadata": {
      "needs_background": "light"
     },
     "output_type": "display_data"
    }
   ],
   "source": [
    "#Starting with continous variable features\n",
    "\n",
    "plt.hist(train_data['Item_Weight'],bins=100)\n",
    "plt.xlabel('Item_Weight')\n",
    "plt.ylabel('Frequency')\n",
    "plt.show()"
   ]
  },
  {
   "cell_type": "markdown",
   "id": "74442e8f",
   "metadata": {},
   "source": [
    "Observation : Uniformy distributed"
   ]
  },
  {
   "cell_type": "code",
   "execution_count": 169,
   "id": "e3447b94",
   "metadata": {},
   "outputs": [
    {
     "data": {
      "image/png": "[encoded data removed]",
      "text/plain": [
       "<Figure size 432x288 with 1 Axes>"
      ]
     },
     "metadata": {
      "needs_background": "light"
     },
     "output_type": "display_data"
    }
   ],
   "source": [
    "plt.hist(train_data['Item_Visibility'],bins=50)\n",
    "plt.xlabel('Item_Visibility')\n",
    "plt.ylabel('Frequency')\n",
    "plt.show()"
   ]
  },
  {
   "cell_type": "code",
   "execution_count": 170,
   "id": "0536842a",
   "metadata": {},
   "outputs": [
    {
     "data": {
      "image/png": "[encoded data removed]",
      "text/plain": [
       "<Figure size 432x288 with 1 Axes>"
      ]
     },
     "metadata": {
      "needs_background": "light"
     },
     "output_type": "display_data"
    }
   ],
   "source": [
    "plt.hist(train_data['Item_MRP'],bins=50)\n",
    "plt.xlabel('Item_MRP')\n",
    "plt.ylabel('Frequency')\n",
    "plt.show()"
   ]
  },
  {
   "cell_type": "code",
   "execution_count": 171,
   "id": "d30ab234",
   "metadata": {},
   "outputs": [
    {
     "data": {
      "image/png": "[encoded data removed]",
      "text/plain": [
       "<Figure size 432x288 with 1 Axes>"
      ]
     },
     "metadata": {
      "needs_background": "light"
     },
     "output_type": "display_data"
    }
   ],
   "source": [
    "plt.hist(train_data['Outlet_Establishment_Year'],bins=40)\n",
    "plt.xlabel('Outlet_Establishment_Year')\n",
    "plt.ylabel('Frequency')\n",
    "plt.show()"
   ]
  },
  {
   "cell_type": "code",
   "execution_count": 172,
   "id": "16d0ea25",
   "metadata": {},
   "outputs": [
    {
     "data": {
      "image/png": "[encoded data removed]",
      "text/plain": [
       "<Figure size 432x288 with 1 Axes>"
      ]
     },
     "metadata": {
      "needs_background": "light"
     },
     "output_type": "display_data"
    }
   ],
   "source": [
    "plt.hist(train_data['Item_Outlet_Sales'],bins=140)\n",
    "plt.xlabel('Item_Outlet_Sales')\n",
    "plt.ylabel('Frequency')\n",
    "plt.show()"
   ]
  },
  {
   "cell_type": "raw",
   "id": "2bc72685",
   "metadata": {},
   "source": [
    "Observations: 1)In 'Item_Weight' there seems to be no clear pattern visible\n",
    "              2)'Item_Visibility' is right-skewed \n",
    "              3)For 'Item_MRP' we can clearly see 4 different distribution.\n",
    "              4)'Outlet_Establishment_Year is right-skewed \n"
   ]
  },
  {
   "cell_type": "raw",
   "id": "b9680493",
   "metadata": {},
   "source": [
    "**Observations\n",
    "There seems to be no clear-cut pattern in Item_Weight. Item_Visibility is right-skewed and should be transformed to curb its skewness. We can clearly see 4 different distributions for Item_MRP. It is an interesting insight."
   ]
  },
  {
   "cell_type": "code",
   "execution_count": 173,
   "id": "69bd3460",
   "metadata": {},
   "outputs": [
    {
     "data": {
      "text/plain": [
       "1985    2439\n",
       "1987    1553\n",
       "1999    1550\n",
       "1997    1550\n",
       "2004    1550\n",
       "2002    1548\n",
       "2009    1546\n",
       "2007    1543\n",
       "1998     925\n",
       "Name: Outlet_Establishment_Year, dtype: int64"
      ]
     },
     "execution_count": 173,
     "metadata": {},
     "output_type": "execute_result"
    }
   ],
   "source": [
    "Combined_data['Outlet_Establishment_Year'].value_counts()"
   ]
  },
  {
   "cell_type": "code",
   "execution_count": 174,
   "id": "3bc84910",
   "metadata": {},
   "outputs": [
    {
     "data": {
      "text/plain": [
       "<seaborn.axisgrid.FacetGrid at 0x2404b765610>"
      ]
     },
     "execution_count": 174,
     "metadata": {},
     "output_type": "execute_result"
    },
    {
     "data": {
      "image/png": "[encoded data removed]",
      "text/plain": [
       "<Figure size 360x360 with 1 Axes>"
      ]
     },
     "metadata": {
      "needs_background": "light"
     },
     "output_type": "display_data"
    }
   ],
   "source": [
    "# Next exploring categorical features\n",
    "#1)\n",
    "sns.catplot(x='Item_Fat_Content',kind='count' ,data=Combined_data)"
   ]
  },
  {
   "cell_type": "raw",
   "id": "26829ffe",
   "metadata": {},
   "source": [
    "Observation : Figure shows 5 different categories however , it seems there is no difference between'Low Fat', 'low fat' and 'LF' and 'Regular' and 'reg'.Hence, we can combine into one in turn which reamins 2 categories \"Low Fat\" and \"Regular\""
   ]
  },
  {
   "cell_type": "code",
   "execution_count": 175,
   "id": "17a47889",
   "metadata": {},
   "outputs": [],
   "source": [
    "Combined_data['Item_Fat_Content'].replace({'low fat':'Low Fat','LF':'Low Fat','reg':'Regular'},inplace = True)"
   ]
  },
  {
   "cell_type": "code",
   "execution_count": 176,
   "id": "acfc5e24",
   "metadata": {},
   "outputs": [
    {
     "data": {
      "text/plain": [
       "<seaborn.axisgrid.FacetGrid at 0x2404a1887f0>"
      ]
     },
     "execution_count": 176,
     "metadata": {},
     "output_type": "execute_result"
    },
    {
     "data": {
      "image/png": "[encoded data removed]",
      "text/plain": [
       "<Figure size 360x360 with 1 Axes>"
      ]
     },
     "metadata": {
      "needs_background": "light"
     },
     "output_type": "display_data"
    }
   ],
   "source": [
    "sns.catplot(x='Item_Fat_Content',kind='count' ,data=Combined_data)"
   ]
  },
  {
   "cell_type": "code",
   "execution_count": 177,
   "id": "3fa037b3",
   "metadata": {},
   "outputs": [
    {
     "data": {
      "text/plain": [
       "<seaborn.axisgrid.FacetGrid at 0x2404b7ccfa0>"
      ]
     },
     "execution_count": 177,
     "metadata": {},
     "output_type": "execute_result"
    },
    {
     "data": {
      "image/png": "[encoded data removed]",
      "text/plain": [
       "<Figure size 1440x360 with 1 Axes>"
      ]
     },
     "metadata": {
      "needs_background": "light"
     },
     "output_type": "display_data"
    }
   ],
   "source": [
    "#2)\n",
    "sns.catplot(x='Item_Type',kind='count' ,data=Combined_data,aspect=4)"
   ]
  },
  {
   "cell_type": "code",
   "execution_count": 178,
   "id": "a624df03",
   "metadata": {},
   "outputs": [
    {
     "data": {
      "text/plain": [
       "<seaborn.axisgrid.FacetGrid at 0x2404b78c9a0>"
      ]
     },
     "execution_count": 178,
     "metadata": {},
     "output_type": "execute_result"
    },
    {
     "data": {
      "image/png": "[encoded data removed]",
      "text/plain": [
       "<Figure size 1080x360 with 1 Axes>"
      ]
     },
     "metadata": {
      "needs_background": "light"
     },
     "output_type": "display_data"
    }
   ],
   "source": [
    "#3)\n",
    "sns.catplot(x='Outlet_Identifier',kind='count' ,data=Combined_data,aspect=3)"
   ]
  },
  {
   "cell_type": "code",
   "execution_count": 179,
   "id": "1f779959",
   "metadata": {},
   "outputs": [
    {
     "data": {
      "text/plain": [
       "<seaborn.axisgrid.FacetGrid at 0x2404cd89820>"
      ]
     },
     "execution_count": 179,
     "metadata": {},
     "output_type": "execute_result"
    },
    {
     "data": {
      "image/png": "[encoded data removed]",
      "text/plain": [
       "<Figure size 720x360 with 1 Axes>"
      ]
     },
     "metadata": {
      "needs_background": "light"
     },
     "output_type": "display_data"
    }
   ],
   "source": [
    "#4)\n",
    "sns.catplot(x='Outlet_Size',kind='count' ,data=Combined_data,aspect=2)"
   ]
  },
  {
   "cell_type": "code",
   "execution_count": 180,
   "id": "bc9ff723",
   "metadata": {},
   "outputs": [
    {
     "data": {
      "text/plain": [
       "<seaborn.axisgrid.FacetGrid at 0x2404ca2e790>"
      ]
     },
     "execution_count": 180,
     "metadata": {},
     "output_type": "execute_result"
    },
    {
     "data": {
      "image/png": "[encoded data removed]",
      "text/plain": [
       "<Figure size 720x360 with 1 Axes>"
      ]
     },
     "metadata": {
      "needs_background": "light"
     },
     "output_type": "display_data"
    }
   ],
   "source": [
    "#5)\n",
    "sns.catplot(x='Outlet_Location_Type',kind='count' ,data=Combined_data,aspect=2)"
   ]
  },
  {
   "cell_type": "code",
   "execution_count": 181,
   "id": "7aa91be7",
   "metadata": {},
   "outputs": [
    {
     "data": {
      "text/plain": [
       "<seaborn.axisgrid.FacetGrid at 0x2404cadfcd0>"
      ]
     },
     "execution_count": 181,
     "metadata": {},
     "output_type": "execute_result"
    },
    {
     "data": {
      "image/png": "[encoded data removed]",
      "text/plain": [
       "<Figure size 720x360 with 1 Axes>"
      ]
     },
     "metadata": {
      "needs_background": "light"
     },
     "output_type": "display_data"
    }
   ],
   "source": [
    "#6)\n",
    "sns.catplot(x='Outlet_Type',kind='count' ,data=Combined_data,aspect=2)"
   ]
  },
  {
   "cell_type": "code",
   "execution_count": 182,
   "id": "dd893bc9",
   "metadata": {},
   "outputs": [
    {
     "data": {
      "text/plain": [
       "<seaborn.axisgrid.FacetGrid at 0x2404cf13880>"
      ]
     },
     "execution_count": 182,
     "metadata": {},
     "output_type": "execute_result"
    },
    {
     "data": {
      "image/png": "[encoded data removed]",
      "text/plain": [
       "<Figure size 720x360 with 1 Axes>"
      ]
     },
     "metadata": {
      "needs_background": "light"
     },
     "output_type": "display_data"
    }
   ],
   "source": [
    "#7)\n",
    "sns.catplot(x='Outlet_Establishment_Year',kind='count' ,data=Combined_data,aspect=2)\n"
   ]
  },
  {
   "cell_type": "raw",
   "id": "ddc22bb1",
   "metadata": {},
   "source": [
    "Observation :Lesser number of observations in the data for the outlets established in the year 1998 as compared to the other years. Supermarket Type 1 seems to be the most popular category of Outlet_Type."
   ]
  },
  {
   "cell_type": "markdown",
   "id": "a751c438",
   "metadata": {},
   "source": [
    "### 7).Bivariate Analysis"
   ]
  },
  {
   "cell_type": "code",
   "execution_count": 183,
   "id": "1d00996b",
   "metadata": {},
   "outputs": [
    {
     "name": "stderr",
     "output_type": "stream",
     "text": [
      "C:\\Users\\Deepali.Kamle\\Anaconda3\\lib\\site-packages\\seaborn\\_decorators.py:36: FutureWarning: Pass the following variables as keyword args: x, y. From version 0.12, the only valid positional argument will be `data`, and passing other arguments without an explicit keyword will result in an error or misinterpretation.\n",
      "  warnings.warn(\n"
     ]
    },
    {
     "data": {
      "text/plain": [
       "<AxesSubplot:xlabel='Item_Weight', ylabel='Item_Outlet_Sales'>"
      ]
     },
     "execution_count": 183,
     "metadata": {},
     "output_type": "execute_result"
    },
    {
     "data": {
      "image/png": "[encoded data removed]",
      "text/plain": [
       "<Figure size 432x288 with 1 Axes>"
      ]
     },
     "metadata": {
      "needs_background": "light"
     },
     "output_type": "display_data"
    }
   ],
   "source": [
    "#Starting with continous variable features\n",
    "#1)\n",
    "sns.scatterplot(Combined_data['Item_Weight'],Combined_data['Item_Outlet_Sales'])"
   ]
  },
  {
   "cell_type": "code",
   "execution_count": 184,
   "id": "aafd6706",
   "metadata": {},
   "outputs": [
    {
     "data": {
      "image/png": "[encoded data removed]",
      "text/plain": [
       "<Figure size 432x288 with 1 Axes>"
      ]
     },
     "metadata": {
      "needs_background": "light"
     },
     "output_type": "display_data"
    }
   ],
   "source": [
    "#2)\n",
    "sns.scatterplot(x = 'Item_Visibility',y = 'Item_Outlet_Sales',data = Combined_data);"
   ]
  },
  {
   "cell_type": "code",
   "execution_count": 185,
   "id": "5765eef9",
   "metadata": {},
   "outputs": [
    {
     "data": {
      "image/png": "[encoded data removed]",
      "text/plain": [
       "<Figure size 432x288 with 1 Axes>"
      ]
     },
     "metadata": {
      "needs_background": "light"
     },
     "output_type": "display_data"
    }
   ],
   "source": [
    "#3)\n",
    "sns.scatterplot(x = 'Item_MRP',y = 'Item_Outlet_Sales',data = Combined_data);"
   ]
  },
  {
   "cell_type": "code",
   "execution_count": 186,
   "id": "8c03b58c",
   "metadata": {},
   "outputs": [
    {
     "data": {
      "text/plain": [
       "<AxesSubplot:xlabel='Item_Fat_Content', ylabel='Item_Outlet_Sales'>"
      ]
     },
     "execution_count": 186,
     "metadata": {},
     "output_type": "execute_result"
    },
    {
     "data": {
      "image/png": "[encoded data removed]",
      "text/plain": [
       "<Figure size 432x288 with 1 Axes>"
      ]
     },
     "metadata": {
      "needs_background": "light"
     },
     "output_type": "display_data"
    }
   ],
   "source": [
    "sns.boxplot(x ='Item_Fat_Content',y ='Item_Outlet_Sales',data = Combined_data)"
   ]
  },
  {
   "cell_type": "code",
   "execution_count": 187,
   "id": "64ea5bd7",
   "metadata": {},
   "outputs": [
    {
     "data": {
      "text/plain": [
       "(array([ 0,  1,  2,  3,  4,  5,  6,  7,  8,  9, 10, 11, 12, 13, 14, 15]),\n",
       " [Text(0, 0, 'Dairy'),\n",
       "  Text(1, 0, 'Soft Drinks'),\n",
       "  Text(2, 0, 'Meat'),\n",
       "  Text(3, 0, 'Fruits and Vegetables'),\n",
       "  Text(4, 0, 'Household'),\n",
       "  Text(5, 0, 'Baking Goods'),\n",
       "  Text(6, 0, 'Snack Foods'),\n",
       "  Text(7, 0, 'Frozen Foods'),\n",
       "  Text(8, 0, 'Breakfast'),\n",
       "  Text(9, 0, 'Health and Hygiene'),\n",
       "  Text(10, 0, 'Hard Drinks'),\n",
       "  Text(11, 0, 'Canned'),\n",
       "  Text(12, 0, 'Breads'),\n",
       "  Text(13, 0, 'Starchy Foods'),\n",
       "  Text(14, 0, 'Others'),\n",
       "  Text(15, 0, 'Seafood')])"
      ]
     },
     "execution_count": 187,
     "metadata": {},
     "output_type": "execute_result"
    },
    {
     "data": {
      "image/png": "[encoded data removed]",
      "text/plain": [
       "<Figure size 432x288 with 1 Axes>"
      ]
     },
     "metadata": {
      "needs_background": "light"
     },
     "output_type": "display_data"
    }
   ],
   "source": [
    "sns.boxplot(x ='Item_Type',y ='Item_Outlet_Sales',data = Combined_data)\n",
    "plt.xticks(rotation =90)"
   ]
  },
  {
   "cell_type": "code",
   "execution_count": 188,
   "id": "43f5960d",
   "metadata": {},
   "outputs": [
    {
     "data": {
      "text/plain": [
       "(array([0, 1, 2, 3, 4, 5, 6, 7, 8, 9]),\n",
       " [Text(0, 0, 'OUT049'),\n",
       "  Text(1, 0, 'OUT018'),\n",
       "  Text(2, 0, 'OUT010'),\n",
       "  Text(3, 0, 'OUT013'),\n",
       "  Text(4, 0, 'OUT027'),\n",
       "  Text(5, 0, 'OUT045'),\n",
       "  Text(6, 0, 'OUT017'),\n",
       "  Text(7, 0, 'OUT046'),\n",
       "  Text(8, 0, 'OUT035'),\n",
       "  Text(9, 0, 'OUT019')])"
      ]
     },
     "execution_count": 188,
     "metadata": {},
     "output_type": "execute_result"
    },
    {
     "data": {
      "image/png": "[encoded data removed]",
      "text/plain": [
       "<Figure size 432x288 with 1 Axes>"
      ]
     },
     "metadata": {
      "needs_background": "light"
     },
     "output_type": "display_data"
    }
   ],
   "source": [
    "sns.boxplot(x ='Outlet_Identifier',y ='Item_Outlet_Sales',data = Combined_data)\n",
    "plt.xticks(rotation =30)"
   ]
  },
  {
   "cell_type": "code",
   "execution_count": 189,
   "id": "c220f23b",
   "metadata": {},
   "outputs": [
    {
     "data": {
      "text/plain": [
       "<AxesSubplot:xlabel='Outlet_Size', ylabel='Item_Outlet_Sales'>"
      ]
     },
     "execution_count": 189,
     "metadata": {},
     "output_type": "execute_result"
    },
    {
     "data": {
      "image/png": "[encoded data removed]",
      "text/plain": [
       "<Figure size 432x288 with 1 Axes>"
      ]
     },
     "metadata": {
      "needs_background": "light"
     },
     "output_type": "display_data"
    }
   ],
   "source": [
    "sns.boxplot(x ='Outlet_Size',y ='Item_Outlet_Sales',data = Combined_data)"
   ]
  },
  {
   "cell_type": "code",
   "execution_count": 190,
   "id": "83d20073",
   "metadata": {},
   "outputs": [
    {
     "data": {
      "text/plain": [
       "<AxesSubplot:xlabel='Outlet_Location_Type', ylabel='Item_Outlet_Sales'>"
      ]
     },
     "execution_count": 190,
     "metadata": {},
     "output_type": "execute_result"
    },
    {
     "data": {
      "image/png": "[encoded data removed]",
      "text/plain": [
       "<Figure size 432x288 with 1 Axes>"
      ]
     },
     "metadata": {
      "needs_background": "light"
     },
     "output_type": "display_data"
    }
   ],
   "source": [
    "sns.boxplot(x ='Outlet_Location_Type',y ='Item_Outlet_Sales',data = Combined_data)"
   ]
  },
  {
   "cell_type": "code",
   "execution_count": 191,
   "id": "ee2b0816",
   "metadata": {},
   "outputs": [
    {
     "data": {
      "text/plain": [
       "(array([0, 1, 2, 3]),\n",
       " [Text(0, 0, 'Supermarket Type1'),\n",
       "  Text(1, 0, 'Supermarket Type2'),\n",
       "  Text(2, 0, 'Grocery Store'),\n",
       "  Text(3, 0, 'Supermarket Type3')])"
      ]
     },
     "execution_count": 191,
     "metadata": {},
     "output_type": "execute_result"
    },
    {
     "data": {
      "image/png": "[encoded data removed]",
      "text/plain": [
       "<Figure size 432x288 with 1 Axes>"
      ]
     },
     "metadata": {
      "needs_background": "light"
     },
     "output_type": "display_data"
    }
   ],
   "source": [
    "sns.boxplot(x ='Outlet_Type',y ='Item_Outlet_Sales',data = Combined_data)\n",
    "plt.xticks(rotation =30)"
   ]
  },
  {
   "cell_type": "code",
   "execution_count": 192,
   "id": "c3cfc357",
   "metadata": {},
   "outputs": [],
   "source": [
    "#Next Categorical variable\n",
    "#1)\n",
    "#sns.swarmplot(x ='Item_Fat_Content',y ='Item_Outlet_Sales',data = Combined_data);"
   ]
  },
  {
   "cell_type": "code",
   "execution_count": 193,
   "id": "c6061b8c",
   "metadata": {},
   "outputs": [],
   "source": [
    "#2)\n",
    "#sns.swarmplot(x ='Item_Type',y ='Item_Outlet_Sales',data = Combined_data);"
   ]
  },
  {
   "cell_type": "code",
   "execution_count": 194,
   "id": "c6eeda8f",
   "metadata": {},
   "outputs": [],
   "source": [
    "#3)\n",
    "#sns.swarmplot(x ='Outlet_Identifier',y ='Item_Outlet_Sales',data = Combined_data);"
   ]
  },
  {
   "cell_type": "code",
   "execution_count": 195,
   "id": "948cd022",
   "metadata": {},
   "outputs": [],
   "source": [
    "#4)\n",
    "#sns.swarmplot(x ='Outlet_Size',y ='Item_Outlet_Sales',data = Combined_data);"
   ]
  },
  {
   "cell_type": "code",
   "execution_count": 196,
   "id": "3d11d7a0",
   "metadata": {},
   "outputs": [],
   "source": [
    "#5)\n",
    "#sns.swarmplot(x ='Outlet_Location_Type',y ='Item_Outlet_Sales',data = Combined_data);"
   ]
  },
  {
   "cell_type": "code",
   "execution_count": 197,
   "id": "bea8ab32",
   "metadata": {},
   "outputs": [],
   "source": [
    "#6)\n",
    "#sns.swarmplot(x ='Outlet_Type',y ='Item_Outlet_Sales',data = Combined_data);"
   ]
  },
  {
   "cell_type": "raw",
   "id": "ba249abb",
   "metadata": {},
   "source": [
    "Observations :\n",
    "                1)The Distribution of Item_Outlet_Sales for features Item_Weight,Item_Type,Item_Fat_Contentacross is not very                     distinct.\n",
    "                2)For OUT027 outlet identifier sales seems to be quite higher compared to other and for OUT010 and OUT019                         categories distribution of Outlet_Identifier are quite similar and different from rest of the categories of                     Outlet_Identifier.\n",
    "                3)Tier 2 and Tier 3 locations of Outlet_Location_Type look similar.\n",
    "                4)In the Outlet_Type plot, Grocery Store has lower sales values as compared to the other categoriesand                             Supermarket type 3 highest."
   ]
  },
  {
   "cell_type": "code",
   "execution_count": 198,
   "id": "07944c71",
   "metadata": {},
   "outputs": [],
   "source": [
    "#Treating outliers in Item_Visibility\n",
    "Combined_data=Combined_data[Combined_data['Item_Visibility']<0.20]"
   ]
  },
  {
   "cell_type": "markdown",
   "id": "71685002",
   "metadata": {},
   "source": [
    "### 8)Missing Value Treatment"
   ]
  },
  {
   "cell_type": "code",
   "execution_count": 199,
   "id": "0837b8b3",
   "metadata": {},
   "outputs": [
    {
     "data": {
      "text/plain": [
       "Item_Identifier                   0\n",
       "Item_Weight                    2314\n",
       "Item_Fat_Content                  0\n",
       "Item_Visibility                   0\n",
       "Item_Type                         0\n",
       "Item_MRP                          0\n",
       "Outlet_Identifier                 0\n",
       "Outlet_Establishment_Year         0\n",
       "Outlet_Size                    3901\n",
       "Outlet_Location_Type              0\n",
       "Outlet_Type                       0\n",
       "Item_Outlet_Sales                 0\n",
       "Classifying Train/Test data       0\n",
       "dtype: int64"
      ]
     },
     "execution_count": 199,
     "metadata": {},
     "output_type": "execute_result"
    }
   ],
   "source": [
    "#Getting details of missing values in train dataset\n",
    "\n",
    "missing_values_count=Combined_data.isnull().sum()\n",
    "missing_values_count"
   ]
  },
  {
   "cell_type": "markdown",
   "id": "cffcd43f",
   "metadata": {},
   "source": [
    "Observation : Missing values are present in  Item_Weight and Outlet_Size features"
   ]
  },
  {
   "cell_type": "code",
   "execution_count": 200,
   "id": "58ddcce5",
   "metadata": {},
   "outputs": [
    {
     "data": {
      "text/plain": [
       "True     11650\n",
       "False     2314\n",
       "Name: Item_Weight, dtype: int64"
      ]
     },
     "execution_count": 200,
     "metadata": {},
     "output_type": "execute_result"
    }
   ],
   "source": [
    "Combined_data['Item_Weight'].notnull().value_counts()"
   ]
  },
  {
   "cell_type": "code",
   "execution_count": 201,
   "id": "357160db",
   "metadata": {},
   "outputs": [
    {
     "data": {
      "text/plain": [
       "True     10063\n",
       "False     3901\n",
       "Name: Outlet_Size, dtype: int64"
      ]
     },
     "execution_count": 201,
     "metadata": {},
     "output_type": "execute_result"
    }
   ],
   "source": [
    "Combined_data['Outlet_Size'].notnull().value_counts()"
   ]
  },
  {
   "cell_type": "code",
   "execution_count": 202,
   "id": "e7a88b72",
   "metadata": {},
   "outputs": [
    {
     "name": "stdout",
     "output_type": "stream",
     "text": [
      "3.423638807482978\n"
     ]
    }
   ],
   "source": [
    "#To check how much % is missing value present in Train data\n",
    "total_cells=np.product(Combined_data.shape)\n",
    "total_missing = missing_values_count.sum()\n",
    "\n",
    "percent_missing = (total_missing/total_cells) * 100\n",
    "print(percent_missing)"
   ]
  },
  {
   "cell_type": "markdown",
   "id": "0243bd3c",
   "metadata": {},
   "source": [
    "Observation : 3.49% of the whole data consist of missing values"
   ]
  },
  {
   "cell_type": "raw",
   "id": "aa81359d",
   "metadata": {},
   "source": [
    "Now, as seen earlier, since the feature 'Item_Weight' not affecting the Item_Outlet_Sales we can disregard the whole column but for now we will fill null cells wih mean vaue."
   ]
  },
  {
   "cell_type": "code",
   "execution_count": 203,
   "id": "c0d69523",
   "metadata": {},
   "outputs": [
    {
     "name": "stderr",
     "output_type": "stream",
     "text": [
      "C:\\Users\\Deepali.Kamle\\AppData\\Local\\Temp/ipykernel_53616/566678650.py:1: SettingWithCopyWarning: \n",
      "A value is trying to be set on a copy of a slice from a DataFrame.\n",
      "Try using .loc[row_indexer,col_indexer] = value instead\n",
      "\n",
      "See the caveats in the documentation: https://pandas.pydata.org/pandas-docs/stable/user_guide/indexing.html#returning-a-view-versus-a-copy\n",
      "  Combined_data['Item_Weight']=Combined_data['Item_Weight'].fillna(Combined_data['Item_Weight'].mean())\n"
     ]
    }
   ],
   "source": [
    "Combined_data['Item_Weight']=Combined_data['Item_Weight'].fillna(Combined_data['Item_Weight'].mean())"
   ]
  },
  {
   "cell_type": "code",
   "execution_count": 204,
   "id": "fc47ed2d",
   "metadata": {},
   "outputs": [
    {
     "name": "stderr",
     "output_type": "stream",
     "text": [
      "C:\\Users\\Deepali.Kamle\\AppData\\Local\\Temp/ipykernel_53616/3178017195.py:1: SettingWithCopyWarning: \n",
      "A value is trying to be set on a copy of a slice from a DataFrame.\n",
      "Try using .loc[row_indexer,col_indexer] = value instead\n",
      "\n",
      "See the caveats in the documentation: https://pandas.pydata.org/pandas-docs/stable/user_guide/indexing.html#returning-a-view-versus-a-copy\n",
      "  Combined_data['Outlet_Size']=Combined_data['Outlet_Size'].fillna(Combined_data['Outlet_Size'].mode().iloc[0])\n"
     ]
    }
   ],
   "source": [
    "Combined_data['Outlet_Size']=Combined_data['Outlet_Size'].fillna(Combined_data['Outlet_Size'].mode().iloc[0])"
   ]
  },
  {
   "cell_type": "code",
   "execution_count": 205,
   "id": "da2db48a",
   "metadata": {},
   "outputs": [
    {
     "data": {
      "text/plain": [
       "Item_Identifier                0\n",
       "Item_Weight                    0\n",
       "Item_Fat_Content               0\n",
       "Item_Visibility                0\n",
       "Item_Type                      0\n",
       "Item_MRP                       0\n",
       "Outlet_Identifier              0\n",
       "Outlet_Establishment_Year      0\n",
       "Outlet_Size                    0\n",
       "Outlet_Location_Type           0\n",
       "Outlet_Type                    0\n",
       "Item_Outlet_Sales              0\n",
       "Classifying Train/Test data    0\n",
       "dtype: int64"
      ]
     },
     "execution_count": 205,
     "metadata": {},
     "output_type": "execute_result"
    }
   ],
   "source": [
    "Combined_data.isnull().sum()"
   ]
  },
  {
   "cell_type": "markdown",
   "id": "2f3be426",
   "metadata": {},
   "source": [
    "### 9)Feature Engineering,\n"
   ]
  },
  {
   "cell_type": "code",
   "execution_count": 206,
   "id": "291b9d26",
   "metadata": {},
   "outputs": [
    {
     "name": "stderr",
     "output_type": "stream",
     "text": [
      "C:\\Users\\Deepali.Kamle\\AppData\\Local\\Temp/ipykernel_53616/3246074475.py:4: SettingWithCopyWarning: \n",
      "A value is trying to be set on a copy of a slice from a DataFrame.\n",
      "Try using .loc[row_indexer,col_indexer] = value instead\n",
      "\n",
      "See the caveats in the documentation: https://pandas.pydata.org/pandas-docs/stable/user_guide/indexing.html#returning-a-view-versus-a-copy\n",
      "  Combined_data['Item_Visibility_bins'] = pd.cut(Combined_data['Item_Visibility'], [0.000, 0.065, 0.13, 0.2], labels=['Low Viz', 'Viz', 'High Viz'])\n"
     ]
    }
   ],
   "source": [
    "#1) Numeric Feature\n",
    "#a)Item_Visibility\n",
    "\n",
    "Combined_data['Item_Visibility_bins'] = pd.cut(Combined_data['Item_Visibility'], [0.000, 0.065, 0.13, 0.2], labels=['Low Viz', 'Viz', 'High Viz'])"
   ]
  },
  {
   "cell_type": "raw",
   "id": "71acf282",
   "metadata": {},
   "source": [
    "Note :Ussing pd.cut on train dataset of train['Item_Visibility' col.From point 0.000 to less then 0.065 whatever values we get replace with 'Low Viz',from  0.065 to less then  0.13 replace with 'Viz',from 0.13 to 0.2 convert to 'High Viz'.\n",
    "Based on data/thresshold we can decide to keep range [0.000, 0.065, 0.13, 0.2]"
   ]
  },
  {
   "cell_type": "code",
   "execution_count": 207,
   "id": "a64d5358",
   "metadata": {},
   "outputs": [
    {
     "data": {
      "text/plain": [
       "Low Viz     7363\n",
       "Viz         4283\n",
       "High Viz    1439\n",
       "Name: Item_Visibility_bins, dtype: int64"
      ]
     },
     "execution_count": 207,
     "metadata": {},
     "output_type": "execute_result"
    }
   ],
   "source": [
    "Combined_data['Item_Visibility_bins'].value_counts()"
   ]
  },
  {
   "cell_type": "code",
   "execution_count": 208,
   "id": "447b6874",
   "metadata": {},
   "outputs": [
    {
     "data": {
      "text/plain": [
       "Item_Identifier                0.000000\n",
       "Item_Weight                    0.000000\n",
       "Item_Fat_Content               0.000000\n",
       "Item_Visibility                0.000000\n",
       "Item_Type                      0.000000\n",
       "Item_MRP                       0.000000\n",
       "Outlet_Identifier              0.000000\n",
       "Outlet_Establishment_Year      0.000000\n",
       "Outlet_Size                    0.000000\n",
       "Outlet_Location_Type           0.000000\n",
       "Outlet_Type                    0.000000\n",
       "Item_Outlet_Sales              0.000000\n",
       "Classifying Train/Test data    0.000000\n",
       "Item_Visibility_bins           6.294758\n",
       "dtype: float64"
      ]
     },
     "execution_count": 208,
     "metadata": {},
     "output_type": "execute_result"
    }
   ],
   "source": [
    "#% of null values resent in each features\n",
    "(Combined_data.isnull().sum()/Combined_data.shape[0])*100"
   ]
  },
  {
   "cell_type": "code",
   "execution_count": 209,
   "id": "3d07d349",
   "metadata": {},
   "outputs": [],
   "source": [
    "Combined_data=Combined_data[~Combined_data[\"Item_Visibility_bins\"].isnull()]"
   ]
  },
  {
   "cell_type": "code",
   "execution_count": 210,
   "id": "cee7f2cd",
   "metadata": {},
   "outputs": [
    {
     "data": {
      "text/plain": [
       "Item_Identifier                   0\n",
       "Item_Weight                    1463\n",
       "Item_Fat_Content                  0\n",
       "Item_Visibility                   0\n",
       "Item_Type                         0\n",
       "Item_MRP                          0\n",
       "Outlet_Identifier                 0\n",
       "Outlet_Establishment_Year         0\n",
       "Outlet_Size                    2410\n",
       "Outlet_Location_Type              0\n",
       "Outlet_Type                       0\n",
       "Item_Outlet_Sales                 0\n",
       "Classifying Train/Test data       0\n",
       "dtype: int64"
      ]
     },
     "execution_count": 210,
     "metadata": {},
     "output_type": "execute_result"
    }
   ],
   "source": [
    "train_data.isnull().sum()"
   ]
  },
  {
   "cell_type": "markdown",
   "id": "f0110ddb",
   "metadata": {},
   "source": [
    "### 10).Encoding Categorical Variables and 11).Label Encoding 12).One Hot Encoding/GetDummies"
   ]
  },
  {
   "cell_type": "code",
   "execution_count": 211,
   "id": "790a14c1",
   "metadata": {},
   "outputs": [],
   "source": [
    "le = LabelEncoder()"
   ]
  },
  {
   "cell_type": "code",
   "execution_count": 212,
   "id": "08082c83",
   "metadata": {},
   "outputs": [],
   "source": [
    "Combined_data['Item_Fat_Content'] = Combined_data['Item_Fat_Content'].replace(['low fat', 'LF'], 'Low Fat')"
   ]
  },
  {
   "cell_type": "code",
   "execution_count": 213,
   "id": "39bd8340",
   "metadata": {},
   "outputs": [],
   "source": [
    "Combined_data['Item_Fat_Content'] = Combined_data['Item_Fat_Content'].replace('reg', 'Regular')"
   ]
  },
  {
   "cell_type": "code",
   "execution_count": 214,
   "id": "d4271a5f",
   "metadata": {},
   "outputs": [
    {
     "data": {
      "text/plain": [
       "array(['Low Fat', 'Regular'], dtype=object)"
      ]
     },
     "execution_count": 214,
     "metadata": {},
     "output_type": "execute_result"
    }
   ],
   "source": [
    "Combined_data['Item_Fat_Content'].unique()"
   ]
  },
  {
   "cell_type": "code",
   "execution_count": 215,
   "id": "470a2338",
   "metadata": {},
   "outputs": [],
   "source": [
    "Combined_data['Item_Fat_Content'] = le.fit_transform(Combined_data['Item_Fat_Content'])"
   ]
  },
  {
   "cell_type": "code",
   "execution_count": 216,
   "id": "8be2f694",
   "metadata": {},
   "outputs": [],
   "source": [
    "Combined_data['Item_Visibility_bins'] = le.fit_transform(Combined_data['Item_Visibility_bins'])"
   ]
  },
  {
   "cell_type": "code",
   "execution_count": 217,
   "id": "665667b4",
   "metadata": {},
   "outputs": [],
   "source": [
    "Combined_data['Outlet_Size'] = le.fit_transform(Combined_data['Outlet_Size'])"
   ]
  },
  {
   "cell_type": "code",
   "execution_count": 218,
   "id": "30dca4a3",
   "metadata": {},
   "outputs": [],
   "source": [
    "Combined_data['Outlet_Location_Type'] = le.fit_transform(Combined_data['Outlet_Location_Type'])"
   ]
  },
  {
   "cell_type": "code",
   "execution_count": 219,
   "id": "fc71f9d0",
   "metadata": {},
   "outputs": [
    {
     "data": {
      "text/plain": [
       "array(['Supermarket Type1', 'Supermarket Type2', 'Supermarket Type3',\n",
       "       'Grocery Store'], dtype=object)"
      ]
     },
     "execution_count": 219,
     "metadata": {},
     "output_type": "execute_result"
    }
   ],
   "source": [
    "Combined_data['Outlet_Type'].unique()"
   ]
  },
  {
   "cell_type": "code",
   "execution_count": 220,
   "id": "faab4542",
   "metadata": {},
   "outputs": [
    {
     "data": {
      "text/html": [
       "<div>\n",
       "<style scoped>\n",
       "    .dataframe tbody tr th:only-of-type {\n",
       "        vertical-align: middle;\n",
       "    }\n",
       "\n",
       "    .dataframe tbody tr th {\n",
       "        vertical-align: top;\n",
       "    }\n",
       "\n",
       "    .dataframe thead th {\n",
       "        text-align: right;\n",
       "    }\n",
       "</style>\n",
       "<table border=\"1\" class=\"dataframe\">\n",
       "  <thead>\n",
       "    <tr style=\"text-align: right;\">\n",
       "      <th></th>\n",
       "      <th>Grocery Store</th>\n",
       "      <th>Supermarket Type1</th>\n",
       "      <th>Supermarket Type2</th>\n",
       "      <th>Supermarket Type3</th>\n",
       "    </tr>\n",
       "  </thead>\n",
       "  <tbody>\n",
       "    <tr>\n",
       "      <th>0</th>\n",
       "      <td>0</td>\n",
       "      <td>1</td>\n",
       "      <td>0</td>\n",
       "      <td>0</td>\n",
       "    </tr>\n",
       "    <tr>\n",
       "      <th>1</th>\n",
       "      <td>0</td>\n",
       "      <td>0</td>\n",
       "      <td>1</td>\n",
       "      <td>0</td>\n",
       "    </tr>\n",
       "    <tr>\n",
       "      <th>2</th>\n",
       "      <td>0</td>\n",
       "      <td>1</td>\n",
       "      <td>0</td>\n",
       "      <td>0</td>\n",
       "    </tr>\n",
       "    <tr>\n",
       "      <th>6</th>\n",
       "      <td>0</td>\n",
       "      <td>1</td>\n",
       "      <td>0</td>\n",
       "      <td>0</td>\n",
       "    </tr>\n",
       "    <tr>\n",
       "      <th>7</th>\n",
       "      <td>0</td>\n",
       "      <td>0</td>\n",
       "      <td>0</td>\n",
       "      <td>1</td>\n",
       "    </tr>\n",
       "  </tbody>\n",
       "</table>\n",
       "</div>"
      ],
      "text/plain": [
       "   Grocery Store  Supermarket Type1  Supermarket Type2  Supermarket Type3\n",
       "0              0                  1                  0                  0\n",
       "1              0                  0                  1                  0\n",
       "2              0                  1                  0                  0\n",
       "6              0                  1                  0                  0\n",
       "7              0                  0                  0                  1"
      ]
     },
     "execution_count": 220,
     "metadata": {},
     "output_type": "execute_result"
    }
   ],
   "source": [
    "dummy = pd.get_dummies(Combined_data['Outlet_Type'])\n",
    "dummy.head()"
   ]
  },
  {
   "cell_type": "code",
   "execution_count": 221,
   "id": "cb5caa3b",
   "metadata": {},
   "outputs": [
    {
     "data": {
      "text/html": [
       "<div>\n",
       "<style scoped>\n",
       "    .dataframe tbody tr th:only-of-type {\n",
       "        vertical-align: middle;\n",
       "    }\n",
       "\n",
       "    .dataframe tbody tr th {\n",
       "        vertical-align: top;\n",
       "    }\n",
       "\n",
       "    .dataframe thead th {\n",
       "        text-align: right;\n",
       "    }\n",
       "</style>\n",
       "<table border=\"1\" class=\"dataframe\">\n",
       "  <thead>\n",
       "    <tr style=\"text-align: right;\">\n",
       "      <th></th>\n",
       "      <th>Supermarket Type1</th>\n",
       "      <th>Supermarket Type2</th>\n",
       "      <th>Supermarket Type3</th>\n",
       "    </tr>\n",
       "  </thead>\n",
       "  <tbody>\n",
       "    <tr>\n",
       "      <th>0</th>\n",
       "      <td>1</td>\n",
       "      <td>0</td>\n",
       "      <td>0</td>\n",
       "    </tr>\n",
       "    <tr>\n",
       "      <th>1</th>\n",
       "      <td>0</td>\n",
       "      <td>1</td>\n",
       "      <td>0</td>\n",
       "    </tr>\n",
       "    <tr>\n",
       "      <th>2</th>\n",
       "      <td>1</td>\n",
       "      <td>0</td>\n",
       "      <td>0</td>\n",
       "    </tr>\n",
       "    <tr>\n",
       "      <th>6</th>\n",
       "      <td>1</td>\n",
       "      <td>0</td>\n",
       "      <td>0</td>\n",
       "    </tr>\n",
       "    <tr>\n",
       "      <th>7</th>\n",
       "      <td>0</td>\n",
       "      <td>0</td>\n",
       "      <td>1</td>\n",
       "    </tr>\n",
       "  </tbody>\n",
       "</table>\n",
       "</div>"
      ],
      "text/plain": [
       "   Supermarket Type1  Supermarket Type2  Supermarket Type3\n",
       "0                  1                  0                  0\n",
       "1                  0                  1                  0\n",
       "2                  1                  0                  0\n",
       "6                  1                  0                  0\n",
       "7                  0                  0                  1"
      ]
     },
     "execution_count": 221,
     "metadata": {},
     "output_type": "execute_result"
    }
   ],
   "source": [
    "dummy = pd.get_dummies(Combined_data['Outlet_Type'],drop_first=True)\n",
    "dummy.head()"
   ]
  },
  {
   "cell_type": "markdown",
   "id": "2c341ba4",
   "metadata": {},
   "source": [
    "Note : We can drop first col(Grocery store) as it does not make difference to outcome."
   ]
  },
  {
   "cell_type": "code",
   "execution_count": 222,
   "id": "e5a5cc0d",
   "metadata": {},
   "outputs": [
    {
     "data": {
      "text/html": [
       "<div>\n",
       "<style scoped>\n",
       "    .dataframe tbody tr th:only-of-type {\n",
       "        vertical-align: middle;\n",
       "    }\n",
       "\n",
       "    .dataframe tbody tr th {\n",
       "        vertical-align: top;\n",
       "    }\n",
       "\n",
       "    .dataframe thead th {\n",
       "        text-align: right;\n",
       "    }\n",
       "</style>\n",
       "<table border=\"1\" class=\"dataframe\">\n",
       "  <thead>\n",
       "    <tr style=\"text-align: right;\">\n",
       "      <th></th>\n",
       "      <th>Item_Identifier</th>\n",
       "      <th>Item_Weight</th>\n",
       "      <th>Item_Fat_Content</th>\n",
       "      <th>Item_Visibility</th>\n",
       "      <th>Item_Type</th>\n",
       "      <th>Item_MRP</th>\n",
       "      <th>Outlet_Identifier</th>\n",
       "      <th>Outlet_Establishment_Year</th>\n",
       "      <th>Outlet_Size</th>\n",
       "      <th>Outlet_Location_Type</th>\n",
       "      <th>Outlet_Type</th>\n",
       "      <th>Item_Outlet_Sales</th>\n",
       "      <th>Classifying Train/Test data</th>\n",
       "      <th>Item_Visibility_bins</th>\n",
       "      <th>Supermarket Type1</th>\n",
       "      <th>Supermarket Type2</th>\n",
       "      <th>Supermarket Type3</th>\n",
       "    </tr>\n",
       "  </thead>\n",
       "  <tbody>\n",
       "    <tr>\n",
       "      <th>0</th>\n",
       "      <td>FDA15</td>\n",
       "      <td>9.300000</td>\n",
       "      <td>0</td>\n",
       "      <td>0.016047</td>\n",
       "      <td>Dairy</td>\n",
       "      <td>249.8092</td>\n",
       "      <td>OUT049</td>\n",
       "      <td>1999</td>\n",
       "      <td>1</td>\n",
       "      <td>0</td>\n",
       "      <td>Supermarket Type1</td>\n",
       "      <td>3735.1380</td>\n",
       "      <td>Train data</td>\n",
       "      <td>1</td>\n",
       "      <td>1</td>\n",
       "      <td>0</td>\n",
       "      <td>0</td>\n",
       "    </tr>\n",
       "    <tr>\n",
       "      <th>1</th>\n",
       "      <td>DRC01</td>\n",
       "      <td>5.920000</td>\n",
       "      <td>1</td>\n",
       "      <td>0.019278</td>\n",
       "      <td>Soft Drinks</td>\n",
       "      <td>48.2692</td>\n",
       "      <td>OUT018</td>\n",
       "      <td>2009</td>\n",
       "      <td>1</td>\n",
       "      <td>2</td>\n",
       "      <td>Supermarket Type2</td>\n",
       "      <td>443.4228</td>\n",
       "      <td>Train data</td>\n",
       "      <td>1</td>\n",
       "      <td>0</td>\n",
       "      <td>1</td>\n",
       "      <td>0</td>\n",
       "    </tr>\n",
       "    <tr>\n",
       "      <th>2</th>\n",
       "      <td>FDN15</td>\n",
       "      <td>17.500000</td>\n",
       "      <td>0</td>\n",
       "      <td>0.016760</td>\n",
       "      <td>Meat</td>\n",
       "      <td>141.6180</td>\n",
       "      <td>OUT049</td>\n",
       "      <td>1999</td>\n",
       "      <td>1</td>\n",
       "      <td>0</td>\n",
       "      <td>Supermarket Type1</td>\n",
       "      <td>2097.2700</td>\n",
       "      <td>Train data</td>\n",
       "      <td>1</td>\n",
       "      <td>1</td>\n",
       "      <td>0</td>\n",
       "      <td>0</td>\n",
       "    </tr>\n",
       "    <tr>\n",
       "      <th>6</th>\n",
       "      <td>FDO10</td>\n",
       "      <td>13.650000</td>\n",
       "      <td>1</td>\n",
       "      <td>0.012741</td>\n",
       "      <td>Snack Foods</td>\n",
       "      <td>57.6588</td>\n",
       "      <td>OUT013</td>\n",
       "      <td>1987</td>\n",
       "      <td>0</td>\n",
       "      <td>2</td>\n",
       "      <td>Supermarket Type1</td>\n",
       "      <td>343.5528</td>\n",
       "      <td>Train data</td>\n",
       "      <td>1</td>\n",
       "      <td>1</td>\n",
       "      <td>0</td>\n",
       "      <td>0</td>\n",
       "    </tr>\n",
       "    <tr>\n",
       "      <th>7</th>\n",
       "      <td>FDP10</td>\n",
       "      <td>12.800662</td>\n",
       "      <td>0</td>\n",
       "      <td>0.127470</td>\n",
       "      <td>Snack Foods</td>\n",
       "      <td>107.7622</td>\n",
       "      <td>OUT027</td>\n",
       "      <td>1985</td>\n",
       "      <td>1</td>\n",
       "      <td>2</td>\n",
       "      <td>Supermarket Type3</td>\n",
       "      <td>4022.7636</td>\n",
       "      <td>Train data</td>\n",
       "      <td>2</td>\n",
       "      <td>0</td>\n",
       "      <td>0</td>\n",
       "      <td>1</td>\n",
       "    </tr>\n",
       "  </tbody>\n",
       "</table>\n",
       "</div>"
      ],
      "text/plain": [
       "  Item_Identifier  Item_Weight  Item_Fat_Content  Item_Visibility  \\\n",
       "0           FDA15     9.300000                 0         0.016047   \n",
       "1           DRC01     5.920000                 1         0.019278   \n",
       "2           FDN15    17.500000                 0         0.016760   \n",
       "6           FDO10    13.650000                 1         0.012741   \n",
       "7           FDP10    12.800662                 0         0.127470   \n",
       "\n",
       "     Item_Type  Item_MRP Outlet_Identifier  Outlet_Establishment_Year  \\\n",
       "0        Dairy  249.8092            OUT049                       1999   \n",
       "1  Soft Drinks   48.2692            OUT018                       2009   \n",
       "2         Meat  141.6180            OUT049                       1999   \n",
       "6  Snack Foods   57.6588            OUT013                       1987   \n",
       "7  Snack Foods  107.7622            OUT027                       1985   \n",
       "\n",
       "   Outlet_Size  Outlet_Location_Type        Outlet_Type  Item_Outlet_Sales  \\\n",
       "0            1                     0  Supermarket Type1          3735.1380   \n",
       "1            1                     2  Supermarket Type2           443.4228   \n",
       "2            1                     0  Supermarket Type1          2097.2700   \n",
       "6            0                     2  Supermarket Type1           343.5528   \n",
       "7            1                     2  Supermarket Type3          4022.7636   \n",
       "\n",
       "  Classifying Train/Test data  Item_Visibility_bins  Supermarket Type1  \\\n",
       "0                  Train data                     1                  1   \n",
       "1                  Train data                     1                  0   \n",
       "2                  Train data                     1                  1   \n",
       "6                  Train data                     1                  1   \n",
       "7                  Train data                     2                  0   \n",
       "\n",
       "   Supermarket Type2  Supermarket Type3  \n",
       "0                  0                  0  \n",
       "1                  1                  0  \n",
       "2                  0                  0  \n",
       "6                  0                  0  \n",
       "7                  0                  1  "
      ]
     },
     "execution_count": 222,
     "metadata": {},
     "output_type": "execute_result"
    }
   ],
   "source": [
    "Combined_data = pd.concat([Combined_data, dummy], axis=1)\n",
    "Combined_data.head()"
   ]
  },
  {
   "cell_type": "code",
   "execution_count": 223,
   "id": "cf27abc0",
   "metadata": {},
   "outputs": [
    {
     "data": {
      "text/plain": [
       "Item_Identifier                 object\n",
       "Item_Weight                    float64\n",
       "Item_Fat_Content                 int32\n",
       "Item_Visibility                float64\n",
       "Item_Type                       object\n",
       "Item_MRP                       float64\n",
       "Outlet_Identifier               object\n",
       "Outlet_Establishment_Year        int64\n",
       "Outlet_Size                      int32\n",
       "Outlet_Location_Type             int32\n",
       "Outlet_Type                     object\n",
       "Item_Outlet_Sales              float64\n",
       "Classifying Train/Test data     object\n",
       "Item_Visibility_bins             int32\n",
       "Supermarket Type1                uint8\n",
       "Supermarket Type2                uint8\n",
       "Supermarket Type3                uint8\n",
       "dtype: object"
      ]
     },
     "execution_count": 223,
     "metadata": {},
     "output_type": "execute_result"
    }
   ],
   "source": [
    "Combined_data.dtypes"
   ]
  },
  {
   "cell_type": "code",
   "execution_count": 224,
   "id": "d20378fe",
   "metadata": {},
   "outputs": [],
   "source": [
    "#Now we can drop all the  object types features which are not required for processing the dataset"
   ]
  },
  {
   "cell_type": "code",
   "execution_count": 225,
   "id": "5f6a611c",
   "metadata": {},
   "outputs": [],
   "source": [
    "Combined_data = Combined_data.drop(['Item_Identifier', 'Item_Type', 'Outlet_Identifier', 'Outlet_Type','Outlet_Establishment_Year'], axis=1)"
   ]
  },
  {
   "cell_type": "code",
   "execution_count": 226,
   "id": "5408ca2c",
   "metadata": {},
   "outputs": [
    {
     "data": {
      "text/plain": [
       "Index(['Item_Weight', 'Item_Fat_Content', 'Item_Visibility', 'Item_MRP',\n",
       "       'Outlet_Size', 'Outlet_Location_Type', 'Item_Outlet_Sales',\n",
       "       'Classifying Train/Test data', 'Item_Visibility_bins',\n",
       "       'Supermarket Type1', 'Supermarket Type2', 'Supermarket Type3'],\n",
       "      dtype='object')"
      ]
     },
     "execution_count": 226,
     "metadata": {},
     "output_type": "execute_result"
    }
   ],
   "source": [
    "Combined_data.columns"
   ]
  },
  {
   "cell_type": "code",
   "execution_count": 227,
   "id": "27d59994",
   "metadata": {},
   "outputs": [
    {
     "data": {
      "text/html": [
       "<div>\n",
       "<style scoped>\n",
       "    .dataframe tbody tr th:only-of-type {\n",
       "        vertical-align: middle;\n",
       "    }\n",
       "\n",
       "    .dataframe tbody tr th {\n",
       "        vertical-align: top;\n",
       "    }\n",
       "\n",
       "    .dataframe thead th {\n",
       "        text-align: right;\n",
       "    }\n",
       "</style>\n",
       "<table border=\"1\" class=\"dataframe\">\n",
       "  <thead>\n",
       "    <tr style=\"text-align: right;\">\n",
       "      <th></th>\n",
       "      <th>Item_Weight</th>\n",
       "      <th>Item_Fat_Content</th>\n",
       "      <th>Item_Visibility</th>\n",
       "      <th>Item_MRP</th>\n",
       "      <th>Outlet_Size</th>\n",
       "      <th>Outlet_Location_Type</th>\n",
       "      <th>Item_Outlet_Sales</th>\n",
       "      <th>Classifying Train/Test data</th>\n",
       "      <th>Item_Visibility_bins</th>\n",
       "      <th>Supermarket Type1</th>\n",
       "      <th>Supermarket Type2</th>\n",
       "      <th>Supermarket Type3</th>\n",
       "    </tr>\n",
       "  </thead>\n",
       "  <tbody>\n",
       "    <tr>\n",
       "      <th>5675</th>\n",
       "      <td>13.0</td>\n",
       "      <td>1</td>\n",
       "      <td>0.070411</td>\n",
       "      <td>63.4484</td>\n",
       "      <td>1</td>\n",
       "      <td>0</td>\n",
       "      <td>0.0</td>\n",
       "      <td>Test Data</td>\n",
       "      <td>2</td>\n",
       "      <td>1</td>\n",
       "      <td>0</td>\n",
       "      <td>0</td>\n",
       "    </tr>\n",
       "    <tr>\n",
       "      <th>5676</th>\n",
       "      <td>10.5</td>\n",
       "      <td>1</td>\n",
       "      <td>0.013496</td>\n",
       "      <td>141.3154</td>\n",
       "      <td>2</td>\n",
       "      <td>0</td>\n",
       "      <td>0.0</td>\n",
       "      <td>Test Data</td>\n",
       "      <td>1</td>\n",
       "      <td>1</td>\n",
       "      <td>0</td>\n",
       "      <td>0</td>\n",
       "    </tr>\n",
       "    <tr>\n",
       "      <th>5677</th>\n",
       "      <td>7.6</td>\n",
       "      <td>1</td>\n",
       "      <td>0.142991</td>\n",
       "      <td>169.1448</td>\n",
       "      <td>1</td>\n",
       "      <td>2</td>\n",
       "      <td>0.0</td>\n",
       "      <td>Test Data</td>\n",
       "      <td>0</td>\n",
       "      <td>0</td>\n",
       "      <td>1</td>\n",
       "      <td>0</td>\n",
       "    </tr>\n",
       "    <tr>\n",
       "      <th>5678</th>\n",
       "      <td>10.0</td>\n",
       "      <td>0</td>\n",
       "      <td>0.073529</td>\n",
       "      <td>118.7440</td>\n",
       "      <td>1</td>\n",
       "      <td>1</td>\n",
       "      <td>0.0</td>\n",
       "      <td>Test Data</td>\n",
       "      <td>2</td>\n",
       "      <td>1</td>\n",
       "      <td>0</td>\n",
       "      <td>0</td>\n",
       "    </tr>\n",
       "    <tr>\n",
       "      <th>5680</th>\n",
       "      <td>9.5</td>\n",
       "      <td>1</td>\n",
       "      <td>0.104720</td>\n",
       "      <td>79.7960</td>\n",
       "      <td>1</td>\n",
       "      <td>1</td>\n",
       "      <td>0.0</td>\n",
       "      <td>Test Data</td>\n",
       "      <td>2</td>\n",
       "      <td>1</td>\n",
       "      <td>0</td>\n",
       "      <td>0</td>\n",
       "    </tr>\n",
       "  </tbody>\n",
       "</table>\n",
       "</div>"
      ],
      "text/plain": [
       "      Item_Weight  Item_Fat_Content  Item_Visibility  Item_MRP  Outlet_Size  \\\n",
       "5675         13.0                 1         0.070411   63.4484            1   \n",
       "5676         10.5                 1         0.013496  141.3154            2   \n",
       "5677          7.6                 1         0.142991  169.1448            1   \n",
       "5678         10.0                 0         0.073529  118.7440            1   \n",
       "5680          9.5                 1         0.104720   79.7960            1   \n",
       "\n",
       "      Outlet_Location_Type  Item_Outlet_Sales Classifying Train/Test data  \\\n",
       "5675                     0                0.0                   Test Data   \n",
       "5676                     0                0.0                   Test Data   \n",
       "5677                     2                0.0                   Test Data   \n",
       "5678                     1                0.0                   Test Data   \n",
       "5680                     1                0.0                   Test Data   \n",
       "\n",
       "      Item_Visibility_bins  Supermarket Type1  Supermarket Type2  \\\n",
       "5675                     2                  1                  0   \n",
       "5676                     1                  1                  0   \n",
       "5677                     0                  0                  1   \n",
       "5678                     2                  1                  0   \n",
       "5680                     2                  1                  0   \n",
       "\n",
       "      Supermarket Type3  \n",
       "5675                  0  \n",
       "5676                  0  \n",
       "5677                  0  \n",
       "5678                  0  \n",
       "5680                  0  "
      ]
     },
     "execution_count": 227,
     "metadata": {},
     "output_type": "execute_result"
    }
   ],
   "source": [
    "Combined_data.tail()"
   ]
  },
  {
   "cell_type": "code",
   "execution_count": 228,
   "id": "e9f15226",
   "metadata": {},
   "outputs": [
    {
     "data": {
      "text/html": [
       "<div>\n",
       "<style scoped>\n",
       "    .dataframe tbody tr th:only-of-type {\n",
       "        vertical-align: middle;\n",
       "    }\n",
       "\n",
       "    .dataframe tbody tr th {\n",
       "        vertical-align: top;\n",
       "    }\n",
       "\n",
       "    .dataframe thead th {\n",
       "        text-align: right;\n",
       "    }\n",
       "</style>\n",
       "<table border=\"1\" class=\"dataframe\">\n",
       "  <thead>\n",
       "    <tr style=\"text-align: right;\">\n",
       "      <th></th>\n",
       "      <th>Item_Weight</th>\n",
       "      <th>Item_Fat_Content</th>\n",
       "      <th>Item_Visibility</th>\n",
       "      <th>Item_MRP</th>\n",
       "      <th>Outlet_Size</th>\n",
       "      <th>Outlet_Location_Type</th>\n",
       "      <th>Item_Outlet_Sales</th>\n",
       "      <th>Classifying Train/Test data</th>\n",
       "      <th>Item_Visibility_bins</th>\n",
       "      <th>Supermarket Type1</th>\n",
       "      <th>Supermarket Type2</th>\n",
       "      <th>Supermarket Type3</th>\n",
       "    </tr>\n",
       "  </thead>\n",
       "  <tbody>\n",
       "    <tr>\n",
       "      <th>0</th>\n",
       "      <td>9.300000</td>\n",
       "      <td>0</td>\n",
       "      <td>0.016047</td>\n",
       "      <td>249.8092</td>\n",
       "      <td>1</td>\n",
       "      <td>0</td>\n",
       "      <td>3735.1380</td>\n",
       "      <td>Train data</td>\n",
       "      <td>1</td>\n",
       "      <td>1</td>\n",
       "      <td>0</td>\n",
       "      <td>0</td>\n",
       "    </tr>\n",
       "    <tr>\n",
       "      <th>1</th>\n",
       "      <td>5.920000</td>\n",
       "      <td>1</td>\n",
       "      <td>0.019278</td>\n",
       "      <td>48.2692</td>\n",
       "      <td>1</td>\n",
       "      <td>2</td>\n",
       "      <td>443.4228</td>\n",
       "      <td>Train data</td>\n",
       "      <td>1</td>\n",
       "      <td>0</td>\n",
       "      <td>1</td>\n",
       "      <td>0</td>\n",
       "    </tr>\n",
       "    <tr>\n",
       "      <th>2</th>\n",
       "      <td>17.500000</td>\n",
       "      <td>0</td>\n",
       "      <td>0.016760</td>\n",
       "      <td>141.6180</td>\n",
       "      <td>1</td>\n",
       "      <td>0</td>\n",
       "      <td>2097.2700</td>\n",
       "      <td>Train data</td>\n",
       "      <td>1</td>\n",
       "      <td>1</td>\n",
       "      <td>0</td>\n",
       "      <td>0</td>\n",
       "    </tr>\n",
       "    <tr>\n",
       "      <th>6</th>\n",
       "      <td>13.650000</td>\n",
       "      <td>1</td>\n",
       "      <td>0.012741</td>\n",
       "      <td>57.6588</td>\n",
       "      <td>0</td>\n",
       "      <td>2</td>\n",
       "      <td>343.5528</td>\n",
       "      <td>Train data</td>\n",
       "      <td>1</td>\n",
       "      <td>1</td>\n",
       "      <td>0</td>\n",
       "      <td>0</td>\n",
       "    </tr>\n",
       "    <tr>\n",
       "      <th>7</th>\n",
       "      <td>12.800662</td>\n",
       "      <td>0</td>\n",
       "      <td>0.127470</td>\n",
       "      <td>107.7622</td>\n",
       "      <td>1</td>\n",
       "      <td>2</td>\n",
       "      <td>4022.7636</td>\n",
       "      <td>Train data</td>\n",
       "      <td>2</td>\n",
       "      <td>0</td>\n",
       "      <td>0</td>\n",
       "      <td>1</td>\n",
       "    </tr>\n",
       "    <tr>\n",
       "      <th>...</th>\n",
       "      <td>...</td>\n",
       "      <td>...</td>\n",
       "      <td>...</td>\n",
       "      <td>...</td>\n",
       "      <td>...</td>\n",
       "      <td>...</td>\n",
       "      <td>...</td>\n",
       "      <td>...</td>\n",
       "      <td>...</td>\n",
       "      <td>...</td>\n",
       "      <td>...</td>\n",
       "      <td>...</td>\n",
       "    </tr>\n",
       "    <tr>\n",
       "      <th>5675</th>\n",
       "      <td>13.000000</td>\n",
       "      <td>1</td>\n",
       "      <td>0.070411</td>\n",
       "      <td>63.4484</td>\n",
       "      <td>1</td>\n",
       "      <td>0</td>\n",
       "      <td>0.0000</td>\n",
       "      <td>Test Data</td>\n",
       "      <td>2</td>\n",
       "      <td>1</td>\n",
       "      <td>0</td>\n",
       "      <td>0</td>\n",
       "    </tr>\n",
       "    <tr>\n",
       "      <th>5676</th>\n",
       "      <td>10.500000</td>\n",
       "      <td>1</td>\n",
       "      <td>0.013496</td>\n",
       "      <td>141.3154</td>\n",
       "      <td>2</td>\n",
       "      <td>0</td>\n",
       "      <td>0.0000</td>\n",
       "      <td>Test Data</td>\n",
       "      <td>1</td>\n",
       "      <td>1</td>\n",
       "      <td>0</td>\n",
       "      <td>0</td>\n",
       "    </tr>\n",
       "    <tr>\n",
       "      <th>5677</th>\n",
       "      <td>7.600000</td>\n",
       "      <td>1</td>\n",
       "      <td>0.142991</td>\n",
       "      <td>169.1448</td>\n",
       "      <td>1</td>\n",
       "      <td>2</td>\n",
       "      <td>0.0000</td>\n",
       "      <td>Test Data</td>\n",
       "      <td>0</td>\n",
       "      <td>0</td>\n",
       "      <td>1</td>\n",
       "      <td>0</td>\n",
       "    </tr>\n",
       "    <tr>\n",
       "      <th>5678</th>\n",
       "      <td>10.000000</td>\n",
       "      <td>0</td>\n",
       "      <td>0.073529</td>\n",
       "      <td>118.7440</td>\n",
       "      <td>1</td>\n",
       "      <td>1</td>\n",
       "      <td>0.0000</td>\n",
       "      <td>Test Data</td>\n",
       "      <td>2</td>\n",
       "      <td>1</td>\n",
       "      <td>0</td>\n",
       "      <td>0</td>\n",
       "    </tr>\n",
       "    <tr>\n",
       "      <th>5680</th>\n",
       "      <td>9.500000</td>\n",
       "      <td>1</td>\n",
       "      <td>0.104720</td>\n",
       "      <td>79.7960</td>\n",
       "      <td>1</td>\n",
       "      <td>1</td>\n",
       "      <td>0.0000</td>\n",
       "      <td>Test Data</td>\n",
       "      <td>2</td>\n",
       "      <td>1</td>\n",
       "      <td>0</td>\n",
       "      <td>0</td>\n",
       "    </tr>\n",
       "  </tbody>\n",
       "</table>\n",
       "<p>13085 rows × 12 columns</p>\n",
       "</div>"
      ],
      "text/plain": [
       "      Item_Weight  Item_Fat_Content  Item_Visibility  Item_MRP  Outlet_Size  \\\n",
       "0        9.300000                 0         0.016047  249.8092            1   \n",
       "1        5.920000                 1         0.019278   48.2692            1   \n",
       "2       17.500000                 0         0.016760  141.6180            1   \n",
       "6       13.650000                 1         0.012741   57.6588            0   \n",
       "7       12.800662                 0         0.127470  107.7622            1   \n",
       "...           ...               ...              ...       ...          ...   \n",
       "5675    13.000000                 1         0.070411   63.4484            1   \n",
       "5676    10.500000                 1         0.013496  141.3154            2   \n",
       "5677     7.600000                 1         0.142991  169.1448            1   \n",
       "5678    10.000000                 0         0.073529  118.7440            1   \n",
       "5680     9.500000                 1         0.104720   79.7960            1   \n",
       "\n",
       "      Outlet_Location_Type  Item_Outlet_Sales Classifying Train/Test data  \\\n",
       "0                        0          3735.1380                  Train data   \n",
       "1                        2           443.4228                  Train data   \n",
       "2                        0          2097.2700                  Train data   \n",
       "6                        2           343.5528                  Train data   \n",
       "7                        2          4022.7636                  Train data   \n",
       "...                    ...                ...                         ...   \n",
       "5675                     0             0.0000                   Test Data   \n",
       "5676                     0             0.0000                   Test Data   \n",
       "5677                     2             0.0000                   Test Data   \n",
       "5678                     1             0.0000                   Test Data   \n",
       "5680                     1             0.0000                   Test Data   \n",
       "\n",
       "      Item_Visibility_bins  Supermarket Type1  Supermarket Type2  \\\n",
       "0                        1                  1                  0   \n",
       "1                        1                  0                  1   \n",
       "2                        1                  1                  0   \n",
       "6                        1                  1                  0   \n",
       "7                        2                  0                  0   \n",
       "...                    ...                ...                ...   \n",
       "5675                     2                  1                  0   \n",
       "5676                     1                  1                  0   \n",
       "5677                     0                  0                  1   \n",
       "5678                     2                  1                  0   \n",
       "5680                     2                  1                  0   \n",
       "\n",
       "      Supermarket Type3  \n",
       "0                     0  \n",
       "1                     0  \n",
       "2                     0  \n",
       "6                     0  \n",
       "7                     1  \n",
       "...                 ...  \n",
       "5675                  0  \n",
       "5676                  0  \n",
       "5677                  0  \n",
       "5678                  0  \n",
       "5680                  0  \n",
       "\n",
       "[13085 rows x 12 columns]"
      ]
     },
     "execution_count": 228,
     "metadata": {},
     "output_type": "execute_result"
    }
   ],
   "source": [
    "Combined_data"
   ]
  },
  {
   "cell_type": "markdown",
   "id": "cb24e4c8",
   "metadata": {},
   "source": [
    "### 13) PreProcessing Data,14)Modeling,15)Linear Regression"
   ]
  },
  {
   "cell_type": "code",
   "execution_count": 247,
   "id": "7b5fab8f",
   "metadata": {},
   "outputs": [],
   "source": [
    "Only_traindata=Combined_data[Combined_data['Classifying Train/Test data']=='Train data']"
   ]
  },
  {
   "cell_type": "code",
   "execution_count": 248,
   "id": "2b98b5f6",
   "metadata": {},
   "outputs": [
    {
     "data": {
      "text/plain": [
       "(7863, 12)"
      ]
     },
     "execution_count": 248,
     "metadata": {},
     "output_type": "execute_result"
    }
   ],
   "source": [
    "Only_traindata.shape"
   ]
  },
  {
   "cell_type": "code",
   "execution_count": 249,
   "id": "f1994ea7",
   "metadata": {},
   "outputs": [],
   "source": [
    "X=Only_traindata.drop(['Classifying Train/Test data','Item_Outlet_Sales'], axis=1)"
   ]
  },
  {
   "cell_type": "code",
   "execution_count": 250,
   "id": "cb57caa5",
   "metadata": {},
   "outputs": [
    {
     "data": {
      "text/plain": [
       "(7863, 10)"
      ]
     },
     "execution_count": 250,
     "metadata": {},
     "output_type": "execute_result"
    }
   ],
   "source": [
    "X.shape"
   ]
  },
  {
   "cell_type": "code",
   "execution_count": 265,
   "id": "33dfdc1f",
   "metadata": {},
   "outputs": [
    {
     "data": {
      "text/plain": [
       "(7863,)"
      ]
     },
     "execution_count": 265,
     "metadata": {},
     "output_type": "execute_result"
    }
   ],
   "source": [
    "y=Only_traindata['Item_Outlet_Sales']\n",
    "y.shape"
   ]
  },
  {
   "cell_type": "code",
   "execution_count": 281,
   "id": "4fb1a8e2",
   "metadata": {},
   "outputs": [
    {
     "data": {
      "text/html": [
       "<div>\n",
       "<style scoped>\n",
       "    .dataframe tbody tr th:only-of-type {\n",
       "        vertical-align: middle;\n",
       "    }\n",
       "\n",
       "    .dataframe tbody tr th {\n",
       "        vertical-align: top;\n",
       "    }\n",
       "\n",
       "    .dataframe thead th {\n",
       "        text-align: right;\n",
       "    }\n",
       "</style>\n",
       "<table border=\"1\" class=\"dataframe\">\n",
       "  <thead>\n",
       "    <tr style=\"text-align: right;\">\n",
       "      <th></th>\n",
       "      <th>Item_Weight</th>\n",
       "      <th>Item_Fat_Content</th>\n",
       "      <th>Item_Visibility</th>\n",
       "      <th>Item_MRP</th>\n",
       "      <th>Outlet_Size</th>\n",
       "      <th>Outlet_Location_Type</th>\n",
       "      <th>Item_Outlet_Sales</th>\n",
       "      <th>Classifying Train/Test data</th>\n",
       "      <th>Item_Visibility_bins</th>\n",
       "      <th>Supermarket Type1</th>\n",
       "      <th>Supermarket Type2</th>\n",
       "      <th>Supermarket Type3</th>\n",
       "    </tr>\n",
       "  </thead>\n",
       "  <tbody>\n",
       "    <tr>\n",
       "      <th>0</th>\n",
       "      <td>20.750000</td>\n",
       "      <td>0</td>\n",
       "      <td>0.007565</td>\n",
       "      <td>107.8622</td>\n",
       "      <td>1</td>\n",
       "      <td>0</td>\n",
       "      <td>0.0</td>\n",
       "      <td>Test Data</td>\n",
       "      <td>1</td>\n",
       "      <td>1</td>\n",
       "      <td>0</td>\n",
       "      <td>0</td>\n",
       "    </tr>\n",
       "    <tr>\n",
       "      <th>1</th>\n",
       "      <td>8.300000</td>\n",
       "      <td>1</td>\n",
       "      <td>0.038428</td>\n",
       "      <td>87.3198</td>\n",
       "      <td>1</td>\n",
       "      <td>1</td>\n",
       "      <td>0.0</td>\n",
       "      <td>Test Data</td>\n",
       "      <td>1</td>\n",
       "      <td>1</td>\n",
       "      <td>0</td>\n",
       "      <td>0</td>\n",
       "    </tr>\n",
       "    <tr>\n",
       "      <th>2</th>\n",
       "      <td>14.600000</td>\n",
       "      <td>0</td>\n",
       "      <td>0.099575</td>\n",
       "      <td>241.7538</td>\n",
       "      <td>1</td>\n",
       "      <td>2</td>\n",
       "      <td>0.0</td>\n",
       "      <td>Test Data</td>\n",
       "      <td>2</td>\n",
       "      <td>0</td>\n",
       "      <td>0</td>\n",
       "      <td>0</td>\n",
       "    </tr>\n",
       "    <tr>\n",
       "      <th>3</th>\n",
       "      <td>7.315000</td>\n",
       "      <td>0</td>\n",
       "      <td>0.015388</td>\n",
       "      <td>155.0340</td>\n",
       "      <td>1</td>\n",
       "      <td>1</td>\n",
       "      <td>0.0</td>\n",
       "      <td>Test Data</td>\n",
       "      <td>1</td>\n",
       "      <td>1</td>\n",
       "      <td>0</td>\n",
       "      <td>0</td>\n",
       "    </tr>\n",
       "    <tr>\n",
       "      <th>4</th>\n",
       "      <td>12.800662</td>\n",
       "      <td>1</td>\n",
       "      <td>0.118599</td>\n",
       "      <td>234.2300</td>\n",
       "      <td>1</td>\n",
       "      <td>2</td>\n",
       "      <td>0.0</td>\n",
       "      <td>Test Data</td>\n",
       "      <td>2</td>\n",
       "      <td>0</td>\n",
       "      <td>0</td>\n",
       "      <td>1</td>\n",
       "    </tr>\n",
       "    <tr>\n",
       "      <th>...</th>\n",
       "      <td>...</td>\n",
       "      <td>...</td>\n",
       "      <td>...</td>\n",
       "      <td>...</td>\n",
       "      <td>...</td>\n",
       "      <td>...</td>\n",
       "      <td>...</td>\n",
       "      <td>...</td>\n",
       "      <td>...</td>\n",
       "      <td>...</td>\n",
       "      <td>...</td>\n",
       "      <td>...</td>\n",
       "    </tr>\n",
       "    <tr>\n",
       "      <th>5675</th>\n",
       "      <td>13.000000</td>\n",
       "      <td>1</td>\n",
       "      <td>0.070411</td>\n",
       "      <td>63.4484</td>\n",
       "      <td>1</td>\n",
       "      <td>0</td>\n",
       "      <td>0.0</td>\n",
       "      <td>Test Data</td>\n",
       "      <td>2</td>\n",
       "      <td>1</td>\n",
       "      <td>0</td>\n",
       "      <td>0</td>\n",
       "    </tr>\n",
       "    <tr>\n",
       "      <th>5676</th>\n",
       "      <td>10.500000</td>\n",
       "      <td>1</td>\n",
       "      <td>0.013496</td>\n",
       "      <td>141.3154</td>\n",
       "      <td>2</td>\n",
       "      <td>0</td>\n",
       "      <td>0.0</td>\n",
       "      <td>Test Data</td>\n",
       "      <td>1</td>\n",
       "      <td>1</td>\n",
       "      <td>0</td>\n",
       "      <td>0</td>\n",
       "    </tr>\n",
       "    <tr>\n",
       "      <th>5677</th>\n",
       "      <td>7.600000</td>\n",
       "      <td>1</td>\n",
       "      <td>0.142991</td>\n",
       "      <td>169.1448</td>\n",
       "      <td>1</td>\n",
       "      <td>2</td>\n",
       "      <td>0.0</td>\n",
       "      <td>Test Data</td>\n",
       "      <td>0</td>\n",
       "      <td>0</td>\n",
       "      <td>1</td>\n",
       "      <td>0</td>\n",
       "    </tr>\n",
       "    <tr>\n",
       "      <th>5678</th>\n",
       "      <td>10.000000</td>\n",
       "      <td>0</td>\n",
       "      <td>0.073529</td>\n",
       "      <td>118.7440</td>\n",
       "      <td>1</td>\n",
       "      <td>1</td>\n",
       "      <td>0.0</td>\n",
       "      <td>Test Data</td>\n",
       "      <td>2</td>\n",
       "      <td>1</td>\n",
       "      <td>0</td>\n",
       "      <td>0</td>\n",
       "    </tr>\n",
       "    <tr>\n",
       "      <th>5680</th>\n",
       "      <td>9.500000</td>\n",
       "      <td>1</td>\n",
       "      <td>0.104720</td>\n",
       "      <td>79.7960</td>\n",
       "      <td>1</td>\n",
       "      <td>1</td>\n",
       "      <td>0.0</td>\n",
       "      <td>Test Data</td>\n",
       "      <td>2</td>\n",
       "      <td>1</td>\n",
       "      <td>0</td>\n",
       "      <td>0</td>\n",
       "    </tr>\n",
       "  </tbody>\n",
       "</table>\n",
       "<p>5222 rows × 12 columns</p>\n",
       "</div>"
      ],
      "text/plain": [
       "      Item_Weight  Item_Fat_Content  Item_Visibility  Item_MRP  Outlet_Size  \\\n",
       "0       20.750000                 0         0.007565  107.8622            1   \n",
       "1        8.300000                 1         0.038428   87.3198            1   \n",
       "2       14.600000                 0         0.099575  241.7538            1   \n",
       "3        7.315000                 0         0.015388  155.0340            1   \n",
       "4       12.800662                 1         0.118599  234.2300            1   \n",
       "...           ...               ...              ...       ...          ...   \n",
       "5675    13.000000                 1         0.070411   63.4484            1   \n",
       "5676    10.500000                 1         0.013496  141.3154            2   \n",
       "5677     7.600000                 1         0.142991  169.1448            1   \n",
       "5678    10.000000                 0         0.073529  118.7440            1   \n",
       "5680     9.500000                 1         0.104720   79.7960            1   \n",
       "\n",
       "      Outlet_Location_Type  Item_Outlet_Sales Classifying Train/Test data  \\\n",
       "0                        0                0.0                   Test Data   \n",
       "1                        1                0.0                   Test Data   \n",
       "2                        2                0.0                   Test Data   \n",
       "3                        1                0.0                   Test Data   \n",
       "4                        2                0.0                   Test Data   \n",
       "...                    ...                ...                         ...   \n",
       "5675                     0                0.0                   Test Data   \n",
       "5676                     0                0.0                   Test Data   \n",
       "5677                     2                0.0                   Test Data   \n",
       "5678                     1                0.0                   Test Data   \n",
       "5680                     1                0.0                   Test Data   \n",
       "\n",
       "      Item_Visibility_bins  Supermarket Type1  Supermarket Type2  \\\n",
       "0                        1                  1                  0   \n",
       "1                        1                  1                  0   \n",
       "2                        2                  0                  0   \n",
       "3                        1                  1                  0   \n",
       "4                        2                  0                  0   \n",
       "...                    ...                ...                ...   \n",
       "5675                     2                  1                  0   \n",
       "5676                     1                  1                  0   \n",
       "5677                     0                  0                  1   \n",
       "5678                     2                  1                  0   \n",
       "5680                     2                  1                  0   \n",
       "\n",
       "      Supermarket Type3  \n",
       "0                     0  \n",
       "1                     0  \n",
       "2                     0  \n",
       "3                     0  \n",
       "4                     1  \n",
       "...                 ...  \n",
       "5675                  0  \n",
       "5676                  0  \n",
       "5677                  0  \n",
       "5678                  0  \n",
       "5680                  0  \n",
       "\n",
       "[5222 rows x 12 columns]"
      ]
     },
     "execution_count": 281,
     "metadata": {},
     "output_type": "execute_result"
    }
   ],
   "source": [
    "Only_testdata=Combined_data[Combined_data['Classifying Train/Test data']=='Test Data']\n",
    "Only_testdata"
   ]
  },
  {
   "cell_type": "code",
   "execution_count": 282,
   "id": "76d4936b",
   "metadata": {},
   "outputs": [],
   "source": [
    "X_test=Only_testdata.drop(['Classifying Train/Test data','Item_Outlet_Sales'], axis=1)"
   ]
  },
  {
   "cell_type": "code",
   "execution_count": 283,
   "id": "bdf30fc2",
   "metadata": {},
   "outputs": [
    {
     "data": {
      "text/html": [
       "<div>\n",
       "<style scoped>\n",
       "    .dataframe tbody tr th:only-of-type {\n",
       "        vertical-align: middle;\n",
       "    }\n",
       "\n",
       "    .dataframe tbody tr th {\n",
       "        vertical-align: top;\n",
       "    }\n",
       "\n",
       "    .dataframe thead th {\n",
       "        text-align: right;\n",
       "    }\n",
       "</style>\n",
       "<table border=\"1\" class=\"dataframe\">\n",
       "  <thead>\n",
       "    <tr style=\"text-align: right;\">\n",
       "      <th></th>\n",
       "      <th>Item_Weight</th>\n",
       "      <th>Item_Fat_Content</th>\n",
       "      <th>Item_Visibility</th>\n",
       "      <th>Item_MRP</th>\n",
       "      <th>Outlet_Size</th>\n",
       "      <th>Outlet_Location_Type</th>\n",
       "      <th>Item_Visibility_bins</th>\n",
       "      <th>Supermarket Type1</th>\n",
       "      <th>Supermarket Type2</th>\n",
       "      <th>Supermarket Type3</th>\n",
       "    </tr>\n",
       "  </thead>\n",
       "  <tbody>\n",
       "    <tr>\n",
       "      <th>0</th>\n",
       "      <td>20.750000</td>\n",
       "      <td>0</td>\n",
       "      <td>0.007565</td>\n",
       "      <td>107.8622</td>\n",
       "      <td>1</td>\n",
       "      <td>0</td>\n",
       "      <td>1</td>\n",
       "      <td>1</td>\n",
       "      <td>0</td>\n",
       "      <td>0</td>\n",
       "    </tr>\n",
       "    <tr>\n",
       "      <th>1</th>\n",
       "      <td>8.300000</td>\n",
       "      <td>1</td>\n",
       "      <td>0.038428</td>\n",
       "      <td>87.3198</td>\n",
       "      <td>1</td>\n",
       "      <td>1</td>\n",
       "      <td>1</td>\n",
       "      <td>1</td>\n",
       "      <td>0</td>\n",
       "      <td>0</td>\n",
       "    </tr>\n",
       "    <tr>\n",
       "      <th>2</th>\n",
       "      <td>14.600000</td>\n",
       "      <td>0</td>\n",
       "      <td>0.099575</td>\n",
       "      <td>241.7538</td>\n",
       "      <td>1</td>\n",
       "      <td>2</td>\n",
       "      <td>2</td>\n",
       "      <td>0</td>\n",
       "      <td>0</td>\n",
       "      <td>0</td>\n",
       "    </tr>\n",
       "    <tr>\n",
       "      <th>3</th>\n",
       "      <td>7.315000</td>\n",
       "      <td>0</td>\n",
       "      <td>0.015388</td>\n",
       "      <td>155.0340</td>\n",
       "      <td>1</td>\n",
       "      <td>1</td>\n",
       "      <td>1</td>\n",
       "      <td>1</td>\n",
       "      <td>0</td>\n",
       "      <td>0</td>\n",
       "    </tr>\n",
       "    <tr>\n",
       "      <th>4</th>\n",
       "      <td>12.800662</td>\n",
       "      <td>1</td>\n",
       "      <td>0.118599</td>\n",
       "      <td>234.2300</td>\n",
       "      <td>1</td>\n",
       "      <td>2</td>\n",
       "      <td>2</td>\n",
       "      <td>0</td>\n",
       "      <td>0</td>\n",
       "      <td>1</td>\n",
       "    </tr>\n",
       "    <tr>\n",
       "      <th>...</th>\n",
       "      <td>...</td>\n",
       "      <td>...</td>\n",
       "      <td>...</td>\n",
       "      <td>...</td>\n",
       "      <td>...</td>\n",
       "      <td>...</td>\n",
       "      <td>...</td>\n",
       "      <td>...</td>\n",
       "      <td>...</td>\n",
       "      <td>...</td>\n",
       "    </tr>\n",
       "    <tr>\n",
       "      <th>5675</th>\n",
       "      <td>13.000000</td>\n",
       "      <td>1</td>\n",
       "      <td>0.070411</td>\n",
       "      <td>63.4484</td>\n",
       "      <td>1</td>\n",
       "      <td>0</td>\n",
       "      <td>2</td>\n",
       "      <td>1</td>\n",
       "      <td>0</td>\n",
       "      <td>0</td>\n",
       "    </tr>\n",
       "    <tr>\n",
       "      <th>5676</th>\n",
       "      <td>10.500000</td>\n",
       "      <td>1</td>\n",
       "      <td>0.013496</td>\n",
       "      <td>141.3154</td>\n",
       "      <td>2</td>\n",
       "      <td>0</td>\n",
       "      <td>1</td>\n",
       "      <td>1</td>\n",
       "      <td>0</td>\n",
       "      <td>0</td>\n",
       "    </tr>\n",
       "    <tr>\n",
       "      <th>5677</th>\n",
       "      <td>7.600000</td>\n",
       "      <td>1</td>\n",
       "      <td>0.142991</td>\n",
       "      <td>169.1448</td>\n",
       "      <td>1</td>\n",
       "      <td>2</td>\n",
       "      <td>0</td>\n",
       "      <td>0</td>\n",
       "      <td>1</td>\n",
       "      <td>0</td>\n",
       "    </tr>\n",
       "    <tr>\n",
       "      <th>5678</th>\n",
       "      <td>10.000000</td>\n",
       "      <td>0</td>\n",
       "      <td>0.073529</td>\n",
       "      <td>118.7440</td>\n",
       "      <td>1</td>\n",
       "      <td>1</td>\n",
       "      <td>2</td>\n",
       "      <td>1</td>\n",
       "      <td>0</td>\n",
       "      <td>0</td>\n",
       "    </tr>\n",
       "    <tr>\n",
       "      <th>5680</th>\n",
       "      <td>9.500000</td>\n",
       "      <td>1</td>\n",
       "      <td>0.104720</td>\n",
       "      <td>79.7960</td>\n",
       "      <td>1</td>\n",
       "      <td>1</td>\n",
       "      <td>2</td>\n",
       "      <td>1</td>\n",
       "      <td>0</td>\n",
       "      <td>0</td>\n",
       "    </tr>\n",
       "  </tbody>\n",
       "</table>\n",
       "<p>5222 rows × 10 columns</p>\n",
       "</div>"
      ],
      "text/plain": [
       "      Item_Weight  Item_Fat_Content  Item_Visibility  Item_MRP  Outlet_Size  \\\n",
       "0       20.750000                 0         0.007565  107.8622            1   \n",
       "1        8.300000                 1         0.038428   87.3198            1   \n",
       "2       14.600000                 0         0.099575  241.7538            1   \n",
       "3        7.315000                 0         0.015388  155.0340            1   \n",
       "4       12.800662                 1         0.118599  234.2300            1   \n",
       "...           ...               ...              ...       ...          ...   \n",
       "5675    13.000000                 1         0.070411   63.4484            1   \n",
       "5676    10.500000                 1         0.013496  141.3154            2   \n",
       "5677     7.600000                 1         0.142991  169.1448            1   \n",
       "5678    10.000000                 0         0.073529  118.7440            1   \n",
       "5680     9.500000                 1         0.104720   79.7960            1   \n",
       "\n",
       "      Outlet_Location_Type  Item_Visibility_bins  Supermarket Type1  \\\n",
       "0                        0                     1                  1   \n",
       "1                        1                     1                  1   \n",
       "2                        2                     2                  0   \n",
       "3                        1                     1                  1   \n",
       "4                        2                     2                  0   \n",
       "...                    ...                   ...                ...   \n",
       "5675                     0                     2                  1   \n",
       "5676                     0                     1                  1   \n",
       "5677                     2                     0                  0   \n",
       "5678                     1                     2                  1   \n",
       "5680                     1                     2                  1   \n",
       "\n",
       "      Supermarket Type2  Supermarket Type3  \n",
       "0                     0                  0  \n",
       "1                     0                  0  \n",
       "2                     0                  0  \n",
       "3                     0                  0  \n",
       "4                     0                  1  \n",
       "...                 ...                ...  \n",
       "5675                  0                  0  \n",
       "5676                  0                  0  \n",
       "5677                  1                  0  \n",
       "5678                  0                  0  \n",
       "5680                  0                  0  \n",
       "\n",
       "[5222 rows x 10 columns]"
      ]
     },
     "execution_count": 283,
     "metadata": {},
     "output_type": "execute_result"
    }
   ],
   "source": [
    "X_test"
   ]
  },
  {
   "cell_type": "code",
   "execution_count": 266,
   "id": "0ac3b2fa",
   "metadata": {},
   "outputs": [],
   "source": [
    "from sklearn import model_selection\n",
    "xtrain,xtest,ytrain,ytest = model_selection.train_test_split(X,y,test_size=0.3,random_state=1)"
   ]
  },
  {
   "cell_type": "code",
   "execution_count": 295,
   "id": "d7d25466",
   "metadata": {},
   "outputs": [],
   "source": [
    "lin = LinearRegression()"
   ]
  },
  {
   "cell_type": "code",
   "execution_count": 296,
   "id": "abc75a64",
   "metadata": {},
   "outputs": [
    {
     "name": "stdout",
     "output_type": "stream",
     "text": [
      "[-1.92637480e+00  3.41718462e+01 -2.31867071e+02  1.57740696e+01\n",
      "  3.36447563e+01  2.54035548e+00  9.51488308e+00  1.96788163e+03\n",
      "  1.64059082e+03  3.36601308e+03]\n"
     ]
    },
    {
     "data": {
      "text/plain": [
       "-1906.9705830709727"
      ]
     },
     "execution_count": 296,
     "metadata": {},
     "output_type": "execute_result"
    }
   ],
   "source": [
    "lin.fit(X, y)\n",
    "print(lin.coef_)  \n",
    "lin.intercept_"
   ]
  },
  {
   "cell_type": "code",
   "execution_count": 297,
   "id": "ebc58052",
   "metadata": {},
   "outputs": [
    {
     "name": "stdout",
     "output_type": "stream",
     "text": [
      "[-1.93000e+00  3.41700e+01 -2.31870e+02  1.57700e+01  3.36400e+01\n",
      "  2.54000e+00  9.51000e+00  1.96788e+03  1.64059e+03  3.36601e+03]\n"
     ]
    }
   ],
   "source": [
    " print(np.round (lin.coef_,2))  "
   ]
  },
  {
   "cell_type": "code",
   "execution_count": 298,
   "id": "3991b043",
   "metadata": {},
   "outputs": [
    {
     "name": "stdout",
     "output_type": "stream",
     "text": [
      "1145.5917886498007\n"
     ]
    }
   ],
   "source": [
    "predictions = lin.predict(xtest)\n",
    "print(sqrt(mean_squared_error(ytest, predictions)))"
   ]
  },
  {
   "cell_type": "code",
   "execution_count": 322,
   "id": "3c93a712",
   "metadata": {},
   "outputs": [
    {
     "name": "stdout",
     "output_type": "stream",
     "text": [
      "Mean Absolute Error : 849.9975598544919\n"
     ]
    }
   ],
   "source": [
    "print(\"Mean Absolute Error : \" + str(mean_absolute_error(ytest,predictions)))"
   ]
  },
  {
   "cell_type": "code",
   "execution_count": 299,
   "id": "709234ce",
   "metadata": {},
   "outputs": [],
   "source": [
    "#Predicting Test data"
   ]
  },
  {
   "cell_type": "code",
   "execution_count": 300,
   "id": "dd0ca4fe",
   "metadata": {},
   "outputs": [],
   "source": [
    "Testdata_predictions = lin.predict(X_test)"
   ]
  },
  {
   "cell_type": "code",
   "execution_count": 301,
   "id": "ec69ec01",
   "metadata": {},
   "outputs": [
    {
     "data": {
      "text/plain": [
       "array([1763.77022758, 1493.2724712 , 1913.0127089 , ..., 2426.82407213,\n",
       "       1952.88945039, 1366.42371774])"
      ]
     },
     "execution_count": 301,
     "metadata": {},
     "output_type": "execute_result"
    }
   ],
   "source": [
    "#Test Data Predictions\n",
    "Testdata_predictions"
   ]
  },
  {
   "cell_type": "code",
   "execution_count": 305,
   "id": "5600e344",
   "metadata": {},
   "outputs": [],
   "source": [
    "normal_LR = LinearRegression(normalize=True,fit_intercept= True)"
   ]
  },
  {
   "cell_type": "code",
   "execution_count": 306,
   "id": "4fdbbdd6",
   "metadata": {},
   "outputs": [
    {
     "name": "stderr",
     "output_type": "stream",
     "text": [
      "C:\\Users\\Deepali.Kamle\\Anaconda3\\lib\\site-packages\\sklearn\\linear_model\\_base.py:141: FutureWarning: 'normalize' was deprecated in version 1.0 and will be removed in 1.2.\n",
      "If you wish to scale the data, use Pipeline with a StandardScaler in a preprocessing stage. To reproduce the previous behavior:\n",
      "\n",
      "from sklearn.pipeline import make_pipeline\n",
      "\n",
      "model = make_pipeline(StandardScaler(with_mean=False), LinearRegression())\n",
      "\n",
      "If you wish to pass a sample_weight parameter, you need to pass it as a fit parameter to each step of the pipeline as follows:\n",
      "\n",
      "kwargs = {s[0] + '__sample_weight': sample_weight for s in model.steps}\n",
      "model.fit(X, y, **kwargs)\n",
      "\n",
      "\n",
      "  warnings.warn(\n"
     ]
    },
    {
     "data": {
      "text/plain": [
       "LinearRegression(normalize=True)"
      ]
     },
     "execution_count": 306,
     "metadata": {},
     "output_type": "execute_result"
    }
   ],
   "source": [
    "normal_LR.fit(X, y)"
   ]
  },
  {
   "cell_type": "code",
   "execution_count": 309,
   "id": "84be9e1c",
   "metadata": {},
   "outputs": [],
   "source": [
    "normalLR_predictions = normal_LR.predict(xtest)"
   ]
  },
  {
   "cell_type": "code",
   "execution_count": 310,
   "id": "78cd60a4",
   "metadata": {},
   "outputs": [
    {
     "name": "stdout",
     "output_type": "stream",
     "text": [
      "1145.591788649801\n"
     ]
    }
   ],
   "source": [
    "print(sqrt(mean_squared_error(ytest, normalLR_predictions)))"
   ]
  },
  {
   "cell_type": "code",
   "execution_count": 321,
   "id": "26d40ba2",
   "metadata": {},
   "outputs": [
    {
     "name": "stdout",
     "output_type": "stream",
     "text": [
      "Mean Absolute Error : 849.9975598544919\n"
     ]
    }
   ],
   "source": [
    "print(\"Mean Absolute Error : \" + str(mean_absolute_error(ytest,normalLR_predictions)))"
   ]
  },
  {
   "cell_type": "markdown",
   "id": "7065a0b9",
   "metadata": {},
   "source": [
    "### XGBoost"
   ]
  },
  {
   "cell_type": "code",
   "execution_count": 312,
   "id": "35f9c1bb",
   "metadata": {},
   "outputs": [],
   "source": [
    "from sklearn.model_selection import KFold, cross_val_score\n",
    "from xgboost import XGBRegressor\n",
    "from sklearn.metrics import mean_absolute_error"
   ]
  },
  {
   "cell_type": "code",
   "execution_count": 319,
   "id": "3856eeb2",
   "metadata": {},
   "outputs": [],
   "source": [
    "XG_model = XGBRegressor(n_estimators=100, learning_rate=0.05)\n",
    "XG_model.fit(X,y)\n",
    "XG_predictions = XG_model.predict(xtest)"
   ]
  },
  {
   "cell_type": "code",
   "execution_count": 323,
   "id": "51ba4310",
   "metadata": {},
   "outputs": [
    {
     "name": "stdout",
     "output_type": "stream",
     "text": [
      "Mean Absolute Error : 690.4217324460252\n"
     ]
    }
   ],
   "source": [
    "print(\"Mean Absolute Error : \" + str(mean_absolute_error(ytest,XG_predictions)))"
   ]
  },
  {
   "cell_type": "markdown",
   "id": "2c4657ac",
   "metadata": {},
   "source": [
    "## Summary"
   ]
  },
  {
   "cell_type": "raw",
   "id": "7099fdf7",
   "metadata": {},
   "source": [
    "The XGBoost algorithm gives lowest amount of error of all algorithm."
   ]
  }
 ],
 "metadata": {
  "kernelspec": {
   "display_name": "Python 3 (ipykernel)",
   "language": "python",
   "name": "python3"
  },
  "language_info": {
   "codemirror_mode": {
    "name": "ipython",
    "version": 3
   },
   "file_extension": ".py",
   "mimetype": "text/x-python",
   "name": "python",
   "nbconvert_exporter": "python",
   "pygments_lexer": "ipython3",
   "version": "3.9.7"
  }
 },
 "nbformat": 4,
 "nbformat_minor": 5
}
